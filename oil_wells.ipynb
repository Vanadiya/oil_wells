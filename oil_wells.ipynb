{
 "cells": [
  {
   "cell_type": "markdown",
   "id": "5bb56453",
   "metadata": {},
   "source": [
    "# Выбор локации для скважины"
   ]
  },
  {
   "cell_type": "markdown",
   "id": "1b841932",
   "metadata": {},
   "source": [
    "Допустим, вы работаете в добывающей компании «ГлавРосГосНефть». Нужно решить, где бурить новую скважину.\n",
    "\n",
    "Вам предоставлены пробы нефти в трёх регионах: в каждом 10 000 месторождений, где измерили качество нефти и объём её запасов. Постройте модель машинного обучения, которая поможет определить регион, где добыча принесёт наибольшую прибыль. Проанализируйте возможную прибыль и риски техникой *Bootstrap.*\n",
    "\n",
    "Шаги для выбора локации:\n",
    "\n",
    "- В избранном регионе ищут месторождения, для каждого определяют значения признаков;\n",
    "- Строят модель и оценивают объём запасов;\n",
    "- Выбирают месторождения с самым высокими оценками значений. Количество месторождений зависит от бюджета компании и стоимости разработки одной скважины;\n",
    "- Прибыль равна суммарной прибыли отобранных месторождений."
   ]
  },
  {
   "cell_type": "markdown",
   "id": "fccb5b7e",
   "metadata": {},
   "source": [
    "## Загрузка и подготовка данных"
   ]
  },
  {
   "cell_type": "markdown",
   "id": "85933409",
   "metadata": {},
   "source": [
    "Подгружаем необходимые библиотеки"
   ]
  },
  {
   "cell_type": "code",
   "execution_count": 1,
   "id": "42439e62",
   "metadata": {},
   "outputs": [],
   "source": [
    "import os\n",
    "\n",
    "import matplotlib.pyplot as plt\n",
    "import numpy as np\n",
    "import pandas as pd\n",
    "import seaborn as sns\n",
    "from sklearn.linear_model import LinearRegression\n",
    "from sklearn.metrics import mean_squared_error\n",
    "from sklearn.model_selection import train_test_split"
   ]
  },
  {
   "cell_type": "markdown",
   "id": "def8bf19",
   "metadata": {},
   "source": [
    "Константы:"
   ]
  },
  {
   "cell_type": "code",
   "execution_count": 2,
   "id": "6bfb2353",
   "metadata": {},
   "outputs": [],
   "source": [
    "RS = 12345\n",
    "STATE = np.random.RandomState(RS)\n",
    "BUDGET = 10000000000 # общий бюджет на разработку\n",
    "PART_BOREHOLES = 500 # количество точек исследования\n",
    "BEST_BOREHOLES = 200 # количество скважин\n",
    "INCOME_1 = 450000 # доход от одной единыцы т.е. 1 тыс. баррелей\n",
    "PROBABILITY_OF_LOSSES = 0.025 # вероятность убытков"
   ]
  },
  {
   "cell_type": "markdown",
   "id": "e4c9d468",
   "metadata": {},
   "source": [
    "Посмотрим, что за сюрпризы приготовил Яндекс Практикум в файлах."
   ]
  },
  {
   "cell_type": "code",
   "execution_count": 6,
   "id": "fc3fa938",
   "metadata": {},
   "outputs": [],
   "source": [
    "pth1 = 'geo_data_0.csv'\n",
    "pth2 = 'geo_data_1.csv'\n",
    "pth3 = 'geo_data_2.csv'\n",
    "\n",
    "pth4 = '/datasets/geo_data_0.csv'\n",
    "pth5 = '/datasets/geo_data_1.csv'\n",
    "pth6 = '/datasets/geo_data_2.csv'\n",
    "\n",
    "if os.path.exists(pth1) and os.path.exists(pth2) and os.path.exists(pth3):\n",
    "    data_1 = pd.read_csv(pth1)\n",
    "    data_2 = pd.read_csv(pth2)\n",
    "    data_3 = pd.read_csv(pth3)\n",
    "    \n",
    "elif os.path.exists(pth4) and os.path.exists(pth5) and os.path.exists(pth6):\n",
    "    data_1 = pd.read_csv(pth4)\n",
    "    data_2 = pd.read_csv(pth5)\n",
    "    data_3 = pd.read_csv(pth6)\n",
    "else:\n",
    "    print('Something is wrong')"
   ]
  },
  {
   "cell_type": "markdown",
   "id": "7f6733f4",
   "metadata": {},
   "source": [
    "Выведем размеры датафайлов."
   ]
  },
  {
   "cell_type": "code",
   "execution_count": 7,
   "id": "6e939959",
   "metadata": {
    "scrolled": true
   },
   "outputs": [
    {
     "name": "stdout",
     "output_type": "stream",
     "text": [
      "Размер первого: (100000, 5)\n",
      "Размер второго: (100000, 5)\n",
      "Размер третьего: (100000, 5)\n"
     ]
    }
   ],
   "source": [
    "print(\"Размер первого:\", data_1.shape)\n",
    "print(\"Размер второго:\", data_2.shape)\n",
    "print(\"Размер третьего:\", data_3.shape)"
   ]
  },
  {
   "cell_type": "markdown",
   "id": "9eb15ef4",
   "metadata": {},
   "source": [
    "Файлы, на первый взгляд, - идентичны."
   ]
  },
  {
   "cell_type": "code",
   "execution_count": 8,
   "id": "ea5b7c75",
   "metadata": {},
   "outputs": [
    {
     "name": "stdout",
     "output_type": "stream",
     "text": [
      "      id        f0        f1        f2     product\n",
      "0  txEyH  0.705745 -0.497823  1.221170  105.280062\n",
      "1  2acmU  1.334711 -0.340164  4.365080   73.037750\n",
      "2  409Wp  1.022732  0.151990  1.419926   85.265647\n",
      "3  iJLyR -0.032172  0.139033  2.978566  168.620776\n",
      "4  Xdl7t  1.988431  0.155413  4.751769  154.036647\n",
      "      id         f0         f1        f2     product\n",
      "0  kBEdx -15.001348  -8.276000 -0.005876    3.179103\n",
      "1  62mP7  14.272088  -3.475083  0.999183   26.953261\n",
      "2  vyE1P   6.263187  -5.948386  5.001160  134.766305\n",
      "3  KcrkZ -13.081196 -11.506057  4.999415  137.945408\n",
      "4  AHL4O  12.702195  -8.147433  5.004363  134.766305\n",
      "      id        f0        f1        f2     product\n",
      "0  fwXo0 -1.146987  0.963328 -0.828965   27.758673\n",
      "1  WJtFt  0.262778  0.269839 -2.530187   56.069697\n",
      "2  ovLUW  0.194587  0.289035 -5.586433   62.871910\n",
      "3  q6cA6  2.236060 -0.553760  0.930038  114.572842\n",
      "4  WPMUX -0.515993  1.716266  5.899011  149.600746\n"
     ]
    }
   ],
   "source": [
    "print(data_1.head())\n",
    "print(data_2.head())\n",
    "print(data_3.head())"
   ]
  },
  {
   "cell_type": "code",
   "execution_count": 9,
   "id": "286e7405",
   "metadata": {},
   "outputs": [
    {
     "name": "stdout",
     "output_type": "stream",
     "text": [
      "id         0\n",
      "f0         0\n",
      "f1         0\n",
      "f2         0\n",
      "product    0\n",
      "dtype: int64\n",
      "id         0\n",
      "f0         0\n",
      "f1         0\n",
      "f2         0\n",
      "product    0\n",
      "dtype: int64\n",
      "id         0\n",
      "f0         0\n",
      "f1         0\n",
      "f2         0\n",
      "product    0\n",
      "dtype: int64\n"
     ]
    }
   ],
   "source": [
    "print(data_1.isnull().sum())\n",
    "print(data_2.isnull().sum())\n",
    "print(data_3.isnull().sum())"
   ]
  },
  {
   "cell_type": "markdown",
   "id": "833f7201",
   "metadata": {},
   "source": [
    "Пропусков нет, названия корректные, дубликатов нет. "
   ]
  },
  {
   "cell_type": "markdown",
   "id": "83ba48a2",
   "metadata": {},
   "source": [
    "### Наличие явных дубликатов"
   ]
  },
  {
   "cell_type": "code",
   "execution_count": 10,
   "id": "d2ef809a",
   "metadata": {},
   "outputs": [
    {
     "name": "stdout",
     "output_type": "stream",
     "text": [
      "Явные дyбликаты в первом датафрейме: 0\n",
      "\n",
      "Явные дyбликаты во втором датафрейме: 0\n",
      "\n",
      "Явные дyбликаты в третьем датафрейме: 0\n"
     ]
    }
   ],
   "source": [
    "print('Явные дyбликаты в первом датафрейме:', data_1.duplicated().sum())\n",
    "print()\n",
    "print('Явные дyбликаты во втором датафрейме:', data_2.duplicated().sum())\n",
    "print()\n",
    "print('Явные дyбликаты в третьем датафрейме:', data_3.duplicated().sum())"
   ]
  },
  {
   "cell_type": "markdown",
   "id": "234baf50",
   "metadata": {},
   "source": [
    "### Наличие неявных дубликатов"
   ]
  },
  {
   "cell_type": "code",
   "execution_count": 11,
   "id": "f6cc1818",
   "metadata": {},
   "outputs": [
    {
     "name": "stdout",
     "output_type": "stream",
     "text": [
      "НЕявные дубликаты в первом датафрейме: 99990\n",
      "\n",
      "НЕявные дубликаты во втором датафрейме: 99996\n",
      "\n",
      "НЕявные дубликаты в третьем датафрейме: 99996\n"
     ]
    }
   ],
   "source": [
    "# проверка на наличие неявных дубликатов\n",
    "print('НЕявные дубликаты в первом датафрейме:', len(data_1['id'].unique()))\n",
    "print()\n",
    "print('НЕявные дубликаты во втором датафрейме:', len(data_2['id'].unique()))\n",
    "print()\n",
    "print('НЕявные дубликаты в третьем датафрейме:', len(data_3['id'].unique()))"
   ]
  },
  {
   "cell_type": "markdown",
   "id": "a3c32df9",
   "metadata": {},
   "source": [
    "Проверка показала, что есть 10 дубликатов в первом датафрейме и по 4 во втором и в третьем. Т.к. в процентном соотношениие дубликаты занимают менее 1%, то с этими точками можно попрощаться."
   ]
  },
  {
   "cell_type": "code",
   "execution_count": 12,
   "id": "09d290c9",
   "metadata": {},
   "outputs": [],
   "source": [
    "# отчаянно дропаем дубликаты\n",
    "\n",
    "def dup_drop(dataframe):\n",
    "    return dataframe.drop_duplicates(subset = ['id'], keep='first')\n",
    "    \n",
    "data_1 = dup_drop(data_1)\n",
    "data_2 = dup_drop(data_2)\n",
    "data_3 = dup_drop(data_3)\n",
    "\n",
    "# по образцу в отдельном файле у меня получилось удалить дубликаты. \n",
    "# вроде бы и тут тоже удалились повторные точки в каждом датафрейме."
   ]
  },
  {
   "cell_type": "markdown",
   "id": "e590d7fa",
   "metadata": {},
   "source": [
    "### Удаление столбца id"
   ]
  },
  {
   "cell_type": "code",
   "execution_count": 13,
   "id": "71a6b732",
   "metadata": {},
   "outputs": [],
   "source": [
    "# перед обучением удалим ненужный столбец с уникальным идентификатором скважины так как он не нужен для обучения\n",
    "data_1 = data_1.drop(['id'], axis=1)\n",
    "data_2 = data_2.drop(['id'], axis=1)\n",
    "data_3 = data_3.drop(['id'], axis=1)"
   ]
  },
  {
   "cell_type": "markdown",
   "id": "989fbd9c",
   "metadata": {},
   "source": [
    "### Распределение запасов"
   ]
  },
  {
   "cell_type": "code",
   "execution_count": 14,
   "id": "0b46087d",
   "metadata": {},
   "outputs": [
    {
     "data": {
      "image/png": "[encoded data removed]",
      "text/plain": [
       "<Figure size 504x360 with 1 Axes>"
      ]
     },
     "metadata": {
      "needs_background": "light"
     },
     "output_type": "display_data"
    }
   ],
   "source": [
    "# визуализируем распределение запасов в каждом регионе\n",
    "df_1 = data_1['product']\n",
    "df_2 = data_2['product']\n",
    "df_3 = data_3['product']\n",
    "\n",
    "data = [df_1, df_2, df_3]\n",
    " \n",
    "fig = plt.figure(figsize =(7, 5))\n",
    "\n",
    "ax = fig.add_axes([0, 0, 1, 1])\n",
    "\n",
    "bp = ax.boxplot(data, vert=False)\n",
    "plt.xlabel('Единицы запасов')\n",
    "plt.ylabel('Номера регионов')\n",
    "plt.title('Распределение целевой переменной product по трем регионам')\n",
    "plt.show()"
   ]
  },
  {
   "cell_type": "markdown",
   "id": "d6f25353",
   "metadata": {},
   "source": [
    "Из вымученного усатого графика можно сделать вывод, что в 1 и 3 регионе запасы баррелей схожи, а вот второй регион имеет меньшие объёмы запасов."
   ]
  },
  {
   "cell_type": "code",
   "execution_count": 15,
   "id": "63959427",
   "metadata": {},
   "outputs": [
    {
     "data": {
      "image/png": "[encoded data removed]",
      "text/plain": [
       "<Figure size 720x432 with 1 Axes>"
      ]
     },
     "metadata": {
      "needs_background": "light"
     },
     "output_type": "display_data"
    }
   ],
   "source": [
    "plt.figure(figsize=(10,6))\n",
    "sns.kdeplot(df_1, shade=True, color=\"g\", label=\"Регион 1\", alpha=.6, bw_adjust=10)\n",
    "sns.kdeplot(df_2, shade=True, color=\"deeppink\", label=\"Регион 2\", alpha=.6, bw_adjust=10)\n",
    "sns.kdeplot(df_3, shade=True, color=\"dodgerblue\", label=\"Регион 3\", alpha=.4, bw_adjust=10)\n",
    "\n",
    "# Decoration\n",
    "plt.title('График плотности', fontsize=22)\n",
    "plt.legend()\n",
    "plt.show()"
   ]
  },
  {
   "cell_type": "code",
   "execution_count": 16,
   "id": "f61c630a",
   "metadata": {},
   "outputs": [
    {
     "data": {
      "image/png": "[encoded data removed]",
      "text/plain": [
       "<Figure size 720x432 with 1 Axes>"
      ]
     },
     "metadata": {
      "needs_background": "light"
     },
     "output_type": "display_data"
    }
   ],
   "source": [
    "plt.figure(figsize=(10,6))\n",
    "sns.kdeplot(df_1, color=\"g\", label=\"Регион 1\", alpha=.6)\n",
    "\n",
    "# Decoration\n",
    "plt.title('График плотности', fontsize=22)\n",
    "plt.legend()\n",
    "plt.show();"
   ]
  },
  {
   "cell_type": "code",
   "execution_count": 17,
   "id": "d462145a",
   "metadata": {},
   "outputs": [
    {
     "data": {
      "text/plain": [
       "<Figure size 720x432 with 0 Axes>"
      ]
     },
     "metadata": {},
     "output_type": "display_data"
    },
    {
     "data": {
      "image/png": "[encoded data removed]",
      "text/plain": [
       "<Figure size 360x360 with 1 Axes>"
      ]
     },
     "metadata": {
      "needs_background": "light"
     },
     "output_type": "display_data"
    }
   ],
   "source": [
    "plt.figure(figsize=(10,6))\n",
    "sns.displot(df_2, color=\"deeppink\", label=\"Регион 2\", alpha=.6)\n",
    "\n",
    "# Decoration\n",
    "plt.title('График плотности', fontsize=22)\n",
    "plt.legend()\n",
    "plt.show();"
   ]
  },
  {
   "cell_type": "code",
   "execution_count": 18,
   "id": "3ba91e33",
   "metadata": {},
   "outputs": [
    {
     "data": {
      "image/png": "[encoded data removed]",
      "text/plain": [
       "<Figure size 720x432 with 1 Axes>"
      ]
     },
     "metadata": {
      "needs_background": "light"
     },
     "output_type": "display_data"
    }
   ],
   "source": [
    "plt.figure(figsize=(10,6))\n",
    "sns.kdeplot(df_3, shade=True, color=\"dodgerblue\", label=\"Регион 3\", alpha=.4, bw_adjust=10)\n",
    "\n",
    "# Decoration\n",
    "plt.title('График плотности', fontsize=22)\n",
    "plt.legend()\n",
    "plt.show()"
   ]
  },
  {
   "cell_type": "markdown",
   "id": "c5b8ecb9",
   "metadata": {},
   "source": [
    "### Корреляционный анализ"
   ]
  },
  {
   "cell_type": "code",
   "execution_count": 19,
   "id": "4d8a078b",
   "metadata": {},
   "outputs": [
    {
     "data": {
      "text/plain": [
       "Text(0.5, 1.0, 'Корреляция Пирсона в первом регионе')"
      ]
     },
     "execution_count": 19,
     "metadata": {},
     "output_type": "execute_result"
    },
    {
     "data": {
      "image/png": "[encoded data removed]",
      "text/plain": [
       "<Figure size 432x288 with 2 Axes>"
      ]
     },
     "metadata": {
      "needs_background": "light"
     },
     "output_type": "display_data"
    }
   ],
   "source": [
    "matrix = np.triu(data_1.corr())\n",
    "sns.heatmap(data_1.corr(), annot = True,  mask=matrix)\n",
    "plt.title('Корреляция Пирсона в первом регионе')"
   ]
  },
  {
   "cell_type": "code",
   "execution_count": 20,
   "id": "c0799257",
   "metadata": {},
   "outputs": [
    {
     "data": {
      "text/plain": [
       "Text(0.5, 1.0, 'Корреляция Пирсона во втором регионе')"
      ]
     },
     "execution_count": 20,
     "metadata": {},
     "output_type": "execute_result"
    },
    {
     "data": {
      "image/png": "[encoded data removed]",
      "text/plain": [
       "<Figure size 432x288 with 2 Axes>"
      ]
     },
     "metadata": {
      "needs_background": "light"
     },
     "output_type": "display_data"
    }
   ],
   "source": [
    "matrix = np.triu(data_2.corr())\n",
    "sns.heatmap(data_2.corr(), annot = True,  mask=matrix)\n",
    "plt.title('Корреляция Пирсона во втором регионе')"
   ]
  },
  {
   "cell_type": "code",
   "execution_count": 21,
   "id": "a0c75592",
   "metadata": {},
   "outputs": [
    {
     "data": {
      "text/plain": [
       "Text(0.5, 1.0, 'Корреляция Пирсона в третьем регионе')"
      ]
     },
     "execution_count": 21,
     "metadata": {},
     "output_type": "execute_result"
    },
    {
     "data": {
      "image/png": "[encoded data removed]",
      "text/plain": [
       "<Figure size 432x288 with 2 Axes>"
      ]
     },
     "metadata": {
      "needs_background": "light"
     },
     "output_type": "display_data"
    }
   ],
   "source": [
    "matrix = np.triu(data_1.corr())\n",
    "sns.heatmap(data_1.corr(), annot = True,  mask=matrix)\n",
    "plt.title('Корреляция Пирсона в третьем регионе')"
   ]
  },
  {
   "cell_type": "markdown",
   "id": "f1a2fcb2",
   "metadata": {},
   "source": [
    "### Промежуточный вывод после подготовки данных"
   ]
  },
  {
   "cell_type": "markdown",
   "id": "da47698d",
   "metadata": {},
   "source": [
    "При подготовке данных была проведена проверка на наличие пропусков, явных и неявных дубликатов. Дубликаты точек в каждом регине составили менее 1% от данных и были удалены из датафреймов.\n",
    "\n",
    "Также был удален столбец с уникальным id каждой скважины, так как данная информация излишне для обучения моделей.\n",
    "\n",
    "Из графика распределения данных, стало ясно, что во втором регионе запасов меньше чем в двух других. Однако при исследовании зависимости параметров от целевого признака выявилась ПРЯМАЯ зависимость f2 от целевого признака product.\n",
    "\n"
   ]
  },
  {
   "cell_type": "markdown",
   "id": "6efdce04",
   "metadata": {},
   "source": [
    "## Обучение и проверка модели"
   ]
  },
  {
   "cell_type": "markdown",
   "id": "8251fca0",
   "metadata": {},
   "source": [
    "### Разделим данные на выборки"
   ]
  },
  {
   "cell_type": "markdown",
   "id": "bbfec73e",
   "metadata": {},
   "source": [
    "Разделение на обучающую и валидационную выборки будет в соотношении 3:1, как сказано в задании."
   ]
  },
  {
   "cell_type": "code",
   "execution_count": 22,
   "id": "459db514",
   "metadata": {},
   "outputs": [],
   "source": [
    "# разделим каждый датафрейм на признаки features и целевой признак target:\n",
    "\n",
    "data_1_features = data_1.drop(['product'], axis=1) # копируем все признаки, кроме целевого\n",
    "data_1_target = data_1['product'] # целевой признак\n",
    "\n",
    "data_2_features = data_2.drop(['product'], axis=1) # копируем все признаки, кроме целевого\n",
    "data_2_target = data_2['product'] # целевой признак\n",
    "\n",
    "data_3_features = data_3.drop(['product'], axis=1) # копируем все признаки, кроме целевого\n",
    "data_3_target = data_3['product'] # целевой признак"
   ]
  },
  {
   "cell_type": "markdown",
   "id": "99ee97e9",
   "metadata": {},
   "source": [
    "Делим признаки и целевой признак исходных датасетов на две части в соотношении 3:1. Получим тренировочные выборки и тестовые."
   ]
  },
  {
   "cell_type": "code",
   "execution_count": 23,
   "id": "3e245445",
   "metadata": {},
   "outputs": [],
   "source": [
    "data_1_features_train, data_1_features_test, data_1_target_train, data_1_target_test = train_test_split(\n",
    "    data_1_features,\n",
    "    data_1_target,\n",
    "    test_size=0.25,\n",
    "    random_state=RS\n",
    ")\n",
    "\n",
    "data_2_features_train, data_2_features_test, data_2_target_train, data_2_target_test = train_test_split(\n",
    "    data_2_features,\n",
    "    data_2_target,\n",
    "    test_size=0.25,\n",
    "    random_state=RS\n",
    ")\n",
    "\n",
    "data_3_features_train, data_3_features_test, data_3_target_train, data_3_target_test = train_test_split(\n",
    "    data_3_features,\n",
    "    data_3_target,\n",
    "    test_size=0.25,\n",
    "    random_state=RS\n",
    ")"
   ]
  },
  {
   "cell_type": "markdown",
   "id": "32aef8bf",
   "metadata": {},
   "source": [
    "Функция для обучения модели:"
   ]
  },
  {
   "cell_type": "code",
   "execution_count": 24,
   "id": "1857d9b9",
   "metadata": {},
   "outputs": [],
   "source": [
    "def fit_func(features_train, target_train, features_test, target_test):\n",
    "    model = LinearRegression()\n",
    "    model.fit(features_train, target_train)\n",
    "    prediction = model.predict(features_test)\n",
    "    rmse = mean_squared_error(target_test, prediction) ** 0.5\n",
    "    r2 = model.score(features_test, target_test)\n",
    "    \n",
    "    return model, prediction, rmse, r2"
   ]
  },
  {
   "cell_type": "code",
   "execution_count": 25,
   "id": "73fd34c4",
   "metadata": {},
   "outputs": [],
   "source": [
    "def print_model_params(model_number, prediction, rmse, r2):\n",
    "    mean = prediction.mean()\n",
    "    print(f'Модель для региона номер {model_number}:')\n",
    "    print(f'- RMSE модели: {rmse}')\n",
    "    print(f'- R2 модели: {r2}')\n",
    "    print(f'- среднее предсказанного: {mean}')"
   ]
  },
  {
   "cell_type": "markdown",
   "id": "84f96ec0",
   "metadata": {},
   "source": [
    "### Обучение модели data_1"
   ]
  },
  {
   "cell_type": "code",
   "execution_count": 26,
   "id": "f4f3da35",
   "metadata": {},
   "outputs": [
    {
     "name": "stdout",
     "output_type": "stream",
     "text": [
      "Модель для региона номер 1:\n",
      "- RMSE модели: 37.853527328872964\n",
      "- R2 модели: 0.2723923460817068\n",
      "- среднее предсказанного: 92.78915638280621\n"
     ]
    }
   ],
   "source": [
    "model_1, predictions_model_1, result_model_1, result_model_1_score = fit_func(\n",
    "    data_1_features_train,\n",
    "    data_1_target_train,\n",
    "    data_1_features_test,\n",
    "    data_1_target_test,\n",
    ")\n",
    "\n",
    "print_model_params(1, predictions_model_1, result_model_1, result_model_1_score)"
   ]
  },
  {
   "cell_type": "markdown",
   "id": "d314c97c",
   "metadata": {},
   "source": [
    "### Обучение модели data_2"
   ]
  },
  {
   "cell_type": "code",
   "execution_count": 27,
   "id": "0fc1f7f0",
   "metadata": {
    "scrolled": true
   },
   "outputs": [
    {
     "name": "stdout",
     "output_type": "stream",
     "text": [
      "Модель для региона номер 2:\n",
      "- RMSE модели: 0.892059264771703\n",
      "- R2 модели: 0.9996222988190184\n",
      "- среднее предсказанного: 69.17831957030432\n"
     ]
    }
   ],
   "source": [
    "model_2, predictions_model_2, result_model_2, result_model_2_score = fit_func(\n",
    "    data_2_features_train,\n",
    "    data_2_target_train,\n",
    "    data_2_features_test,\n",
    "    data_2_target_test,\n",
    ")\n",
    "\n",
    "print_model_params(2, predictions_model_2, result_model_2, result_model_2_score)"
   ]
  },
  {
   "cell_type": "markdown",
   "id": "94e286d9",
   "metadata": {},
   "source": [
    "### Обучение модели data_3"
   ]
  },
  {
   "cell_type": "code",
   "execution_count": 28,
   "id": "563150ba",
   "metadata": {},
   "outputs": [
    {
     "name": "stdout",
     "output_type": "stream",
     "text": [
      "Модель для региона номер 3:\n",
      "- RMSE модели: 40.07585073246016\n",
      "- R2 модели: 0.19556241810202346\n",
      "- среднее предсказанного: 94.86572480562035\n"
     ]
    }
   ],
   "source": [
    "model_3, predictions_model_3, result_model_3, result_model_3_score = fit_func(\n",
    "    data_3_features_train,\n",
    "    data_3_target_train,\n",
    "    data_3_features_test,\n",
    "    data_3_target_test,\n",
    ")\n",
    "\n",
    "print_model_params(3, predictions_model_3, result_model_3, result_model_3_score)"
   ]
  },
  {
   "cell_type": "markdown",
   "id": "ed4dd695",
   "metadata": {},
   "source": [
    "**Вывод:**\n",
    "\n",
    "\n",
    "R2 во всех случаях больше нуля, это лучше чем, если бы значения R2 были отрицательными.\n",
    "У второй модели R2 близка к 1, это, как \"говорит\" теория из практикума, очень даже неплохо, но скорее всего это из-за выявленной зависимости одного из признаков от целевого.\n"
   ]
  },
  {
   "cell_type": "markdown",
   "id": "26cd2764",
   "metadata": {},
   "source": [
    "## Подготовка к расчёту прибыли"
   ]
  },
  {
   "cell_type": "markdown",
   "id": "268bef50",
   "metadata": {},
   "source": [
    "Заполним все ключевые значения для расчётов."
   ]
  },
  {
   "cell_type": "code",
   "execution_count": 29,
   "id": "81df6a58",
   "metadata": {},
   "outputs": [
    {
     "name": "stdout",
     "output_type": "stream",
     "text": [
      "Минимальный объем в 1 скважине должен быть: 111.11111111111111 единиц.\n"
     ]
    }
   ],
   "source": [
    "min_income = BUDGET/BEST_BOREHOLES # минимальный доход от одной точки\n",
    "min_product = BUDGET/(BEST_BOREHOLES*INCOME_1) # минимальный объем единиц от одной точки\n",
    "print('Минимальный объем в 1 скважине должен быть:', min_product, \"единиц.\")"
   ]
  },
  {
   "cell_type": "code",
   "execution_count": 30,
   "id": "6f58e255",
   "metadata": {},
   "outputs": [
    {
     "name": "stdout",
     "output_type": "stream",
     "text": [
      "Средний запас предсказанного сырья в регионе 1: 92.78915638280621\n",
      "Средний запас предсказанного сырья в регионе 2: 69.17831957030432\n",
      "Средний запас предсказанного сырья в регионе 3: 94.86572480562035\n"
     ]
    }
   ],
   "source": [
    "print('Средний запас предсказанного сырья в регионе 1:', predictions_model_1.mean())\n",
    "print('Средний запас предсказанного сырья в регионе 2:', predictions_model_2.mean())\n",
    "print('Средний запас предсказанного сырья в регионе 3:', predictions_model_3.mean())"
   ]
  },
  {
   "cell_type": "markdown",
   "id": "bf6daf37",
   "metadata": {},
   "source": [
    "Из полученных данных, можно сделать вывод, что средний предсказанный каждой моделью в каждом регионе запас меньше чем достаточный минимальный объем для безубыточной разработки новой скважины, но это среднее значение, поэтому если выбрать максимальные точки, то есть шанс безубыточной разработки скважин добычи нефти."
   ]
  },
  {
   "cell_type": "markdown",
   "id": "7c8bff73",
   "metadata": {},
   "source": [
    "## Расчёт прибыли и рисков "
   ]
  },
  {
   "cell_type": "markdown",
   "id": "d160f5cc",
   "metadata": {},
   "source": [
    "Из слака, я узнала, что зачем-то нужно сбросить индексы."
   ]
  },
  {
   "cell_type": "code",
   "execution_count": 31,
   "id": "3b18f80d",
   "metadata": {},
   "outputs": [],
   "source": [
    "# сброс индексов \n",
    "data_1_target_test = data_1_target_test.reset_index(drop=True)\n",
    "data_2_target_test = data_2_target_test.reset_index(drop=True)\n",
    "data_3_target_test = data_3_target_test.reset_index(drop=True)\n",
    "\n",
    "# создадим series\n",
    "predictions_model_1 = pd.Series(predictions_model_1)\n",
    "predictions_model_2 = pd.Series(predictions_model_2)\n",
    "predictions_model_3 = pd.Series(predictions_model_3)"
   ]
  },
  {
   "cell_type": "markdown",
   "id": "c038c7af",
   "metadata": {},
   "source": [
    "Функция для расчета прибыли по выбранным скважинам и предсказаниям модели:"
   ]
  },
  {
   "cell_type": "code",
   "execution_count": 32,
   "id": "56076131",
   "metadata": {},
   "outputs": [],
   "source": [
    "def revenue(target, probabilities, count):\n",
    "    probs_sorted = probabilities.sort_values(ascending=False)\n",
    "    selected = target[probs_sorted.index][:count]\n",
    "    return INCOME_1*selected.sum() - BUDGET"
   ]
  },
  {
   "cell_type": "code",
   "execution_count": 33,
   "id": "2b80489c",
   "metadata": {},
   "outputs": [],
   "source": [
    "def bootstrap_magic(target_test, prediction):\n",
    "    values = []\n",
    "    for i in range(1000):\n",
    "        target_subsample = target_test.sample(\n",
    "            n=PART_BOREHOLES,\n",
    "            replace=True,\n",
    "            random_state=STATE,\n",
    "        )\n",
    "        \n",
    "        probs_subsample = prediction[target_subsample.index]\n",
    "        \n",
    "        values.append(revenue(target_subsample, probs_subsample, BEST_BOREHOLES))\n",
    "                                  \n",
    "    return pd.Series(values)"
   ]
  },
  {
   "cell_type": "code",
   "execution_count": 34,
   "id": "b5ca2e98",
   "metadata": {},
   "outputs": [],
   "source": [
    "def bootstrap_print(values):\n",
    "    mean_sum = values.mean()             \n",
    "    mean_rev = values.mean()/BEST_BOREHOLES         \n",
    "                      \n",
    "    print(f'Средняя сумма доходов от 200 месторождений: {mean_sum*(10**(-6))} млн рублей')\n",
    "    print(f'Средний доход от одного месторождения: {mean_rev*(10**(-6))} млн рублей')\n",
    "    "
   ]
  },
  {
   "cell_type": "markdown",
   "id": "a4793c08",
   "metadata": {},
   "source": [
    "Находим распределение прибыли для **первого** региона."
   ]
  },
  {
   "cell_type": "code",
   "execution_count": 35,
   "id": "dcf196c9",
   "metadata": {},
   "outputs": [
    {
     "name": "stdout",
     "output_type": "stream",
     "text": [
      "Средняя сумма доходов от 200 месторождений: 409.42803862143603 млн рублей\n",
      "Средний доход от одного месторождения: 2.04714019310718 млн рублей\n"
     ]
    }
   ],
   "source": [
    "values_1 = bootstrap_magic(data_1_target_test, predictions_model_1)\n",
    "bootstrap_print(values_1)"
   ]
  },
  {
   "cell_type": "markdown",
   "id": "11f96771",
   "metadata": {},
   "source": [
    "Находим распределение прибыли для **второго** региона."
   ]
  },
  {
   "cell_type": "code",
   "execution_count": 36,
   "id": "07566a97",
   "metadata": {},
   "outputs": [
    {
     "name": "stdout",
     "output_type": "stream",
     "text": [
      "Средняя сумма доходов от 200 месторождений: 536.400199435103 млн рублей\n",
      "Средний доход от одного месторождения: 2.682000997175515 млн рублей\n"
     ]
    }
   ],
   "source": [
    "values_2 = bootstrap_magic(data_2_target_test, predictions_model_2)\n",
    "bootstrap_print(values_2)"
   ]
  },
  {
   "cell_type": "markdown",
   "id": "5b79f165",
   "metadata": {},
   "source": [
    "Находим распределение прибыли для **третьего** региона."
   ]
  },
  {
   "cell_type": "code",
   "execution_count": 37,
   "id": "67f8643b",
   "metadata": {},
   "outputs": [
    {
     "name": "stdout",
     "output_type": "stream",
     "text": [
      "Средняя сумма доходов от 200 месторождений: 339.4780341977997 млн рублей\n",
      "Средний доход от одного месторождения: 1.6973901709889982 млн рублей\n"
     ]
    }
   ],
   "source": [
    "values_3 = bootstrap_magic(data_3_target_test, predictions_model_3)\n",
    "bootstrap_print(values_3)"
   ]
  },
  {
   "cell_type": "markdown",
   "id": "6df3f406",
   "metadata": {},
   "source": [
    "Вывод\n",
    "\n",
    "~Лучше заниматься добычей нефти, а не работать в школе, как я.~\n",
    "\n",
    "По полученным данным видно, что в каждом из трех регионов выгодна разработка месторождений т.к. доходы превышают расходы на разработку. "
   ]
  },
  {
   "cell_type": "code",
   "execution_count": 38,
   "id": "52379090",
   "metadata": {},
   "outputs": [],
   "source": [
    "def estimate_risks(values, region_number):\n",
    "    lower = values.quantile(PROBABILITY_OF_LOSSES)*(10**(-6))\n",
    "    hight = values.quantile(0.975)*(10**(-6))\n",
    "    \n",
    "    print(f\"Для региона {region_number}:\")\n",
    "    print(\"- 2,5%-квантиль: {:.6f} млн.руб.\".format(lower))\n",
    "    print(\"- 97,5%-квантиль: {:.6f} млн.руб.\".format(hight))\n",
    "    print(\"- Вероятность убытков: {:.2%}\".format(len(values.loc[values<0])/len(values)))\n",
    "    print(\"-\"*60)"
   ]
  },
  {
   "cell_type": "code",
   "execution_count": 39,
   "id": "3f3ec6e7",
   "metadata": {},
   "outputs": [
    {
     "name": "stdout",
     "output_type": "stream",
     "text": [
      "Для региона 1:\n",
      "- 2,5%-квантиль: -131.536029 млн.руб.\n",
      "- 97,5%-квантиль: 944.395583 млн.руб.\n",
      "- Вероятность убытков: 7.10%\n",
      "------------------------------------------------------------\n",
      "Для региона 2:\n",
      "- 2,5%-квантиль: 112.954247 млн.руб.\n",
      "- 97,5%-квантиль: 998.504157 млн.руб.\n",
      "- Вероятность убытков: 0.30%\n",
      "------------------------------------------------------------\n",
      "Для региона 3:\n",
      "- 2,5%-квантиль: -224.089222 млн.руб.\n",
      "- 97,5%-квантиль: 847.067588 млн.руб.\n",
      "- Вероятность убытков: 11.80%\n",
      "------------------------------------------------------------\n"
     ]
    }
   ],
   "source": [
    "estimate_risks(values_1, 1)\n",
    "estimate_risks(values_2, 2)\n",
    "estimate_risks(values_3, 3)"
   ]
  },
  {
   "cell_type": "markdown",
   "id": "6f6ceeb0",
   "metadata": {},
   "source": [
    "## \"Вывод\""
   ]
  },
  {
   "cell_type": "markdown",
   "id": "941a2c02",
   "metadata": {},
   "source": [
    "В ходе данного исследования передо мной стояла задача выбрать регион для бурения новых скважин.\n",
    "\n",
    "Для решения данной задачи было сделано следующее:\n",
    "\n",
    "1) Подготовлены данные трех регионов для обучения моделей (проверка пропусков, удаление не нужных значений, проверка типов данных, **была проведена работа с дубликатами в каждом регоне). Было выявлено высокое значение корреляции между признаком f2 и целевым признаком**. \n",
    "\n",
    "2) Для обучения трех моделей каждый датасет был разделен на обучающую (75%) и тестовую (25%) выборки.\n",
    "\n",
    "3) Обучены три модели линейной регрессии для предсказания объема единиц в каждой точке всех трех регионов. . \n",
    "\n",
    "4) Проведена процедура Bootstrap с указанными в задании условиями. Результаты которой вместе с экономической частью показали результаты:\n",
    "\n",
    "а) если выбрать 200 месторождений в каждом из трех регионов, то затраты окупятся\n",
    "\n",
    "б) **риски в первом и третьем регионах примерно 10%, а минимальные риски во втором регионе - менеее 1%. Я думаю, это связано с найденной зависимостью, описанной в п.1. данного вывода.**\n",
    "\n",
    "5) **Не смотря на то, что в регионе под номером два меньше всего запасов единиц целевого признака, я считаю, что по результатам анализа именно он является лучшим, так как доход будет приблизительно 500 млн. ₽,Ю а риски минимальными.**\n"
   ]
  }
 ],
 "metadata": {
  "ExecuteTimeLog": [
   {
    "duration": 1687,
    "start_time": "2022-10-08T17:32:36.638Z"
   },
   {
    "duration": 444,
    "start_time": "2022-10-08T17:32:38.334Z"
   },
   {
    "duration": 224,
    "start_time": "2022-10-08T17:32:38.780Z"
   },
   {
    "duration": 276,
    "start_time": "2022-10-08T17:32:39.006Z"
   },
   {
    "duration": 4,
    "start_time": "2022-10-08T17:32:39.284Z"
   },
   {
    "duration": 12,
    "start_time": "2022-10-08T17:32:39.290Z"
   },
   {
    "duration": 28,
    "start_time": "2022-10-08T17:32:39.304Z"
   },
   {
    "duration": 15,
    "start_time": "2022-10-08T17:32:39.334Z"
   },
   {
    "duration": 10,
    "start_time": "2022-10-08T17:32:39.351Z"
   },
   {
    "duration": 31,
    "start_time": "2022-10-08T17:32:39.363Z"
   },
   {
    "duration": 40,
    "start_time": "2022-10-08T17:32:39.395Z"
   },
   {
    "duration": 91,
    "start_time": "2022-10-08T17:32:39.436Z"
   },
   {
    "duration": 112,
    "start_time": "2022-10-08T17:32:39.528Z"
   },
   {
    "duration": 93,
    "start_time": "2022-10-08T17:32:39.642Z"
   },
   {
    "duration": 102,
    "start_time": "2022-10-08T17:32:39.740Z"
   },
   {
    "duration": 5,
    "start_time": "2022-10-08T17:32:39.844Z"
   },
   {
    "duration": 17,
    "start_time": "2022-10-08T17:32:39.915Z"
   },
   {
    "duration": 77,
    "start_time": "2022-10-08T17:32:39.936Z"
   },
   {
    "duration": 130,
    "start_time": "2022-10-08T17:32:40.016Z"
   },
   {
    "duration": 5,
    "start_time": "2022-10-08T17:32:40.149Z"
   },
   {
    "duration": 184,
    "start_time": "2022-10-08T17:32:40.156Z"
   },
   {
    "duration": 188,
    "start_time": "2022-10-08T17:32:40.341Z"
   },
   {
    "duration": 148,
    "start_time": "2022-10-08T17:32:40.531Z"
   },
   {
    "duration": 0,
    "start_time": "2022-10-08T17:32:40.681Z"
   },
   {
    "duration": 0,
    "start_time": "2022-10-08T17:32:40.682Z"
   },
   {
    "duration": 0,
    "start_time": "2022-10-08T17:32:40.684Z"
   },
   {
    "duration": 0,
    "start_time": "2022-10-08T17:32:40.685Z"
   },
   {
    "duration": 0,
    "start_time": "2022-10-08T17:32:40.686Z"
   },
   {
    "duration": 0,
    "start_time": "2022-10-08T17:32:40.688Z"
   },
   {
    "duration": 0,
    "start_time": "2022-10-08T17:32:40.689Z"
   },
   {
    "duration": 0,
    "start_time": "2022-10-08T17:32:40.690Z"
   },
   {
    "duration": 4,
    "start_time": "2022-10-08T17:33:32.248Z"
   },
   {
    "duration": 3,
    "start_time": "2022-10-08T17:33:50.840Z"
   },
   {
    "duration": 157,
    "start_time": "2022-10-08T17:33:50.844Z"
   },
   {
    "duration": 163,
    "start_time": "2022-10-08T17:33:51.002Z"
   },
   {
    "duration": 138,
    "start_time": "2022-10-08T17:33:51.167Z"
   },
   {
    "duration": 5,
    "start_time": "2022-10-08T17:33:51.307Z"
   },
   {
    "duration": 33,
    "start_time": "2022-10-08T17:33:51.313Z"
   },
   {
    "duration": 17,
    "start_time": "2022-10-08T17:33:51.348Z"
   },
   {
    "duration": 11,
    "start_time": "2022-10-08T17:33:51.367Z"
   },
   {
    "duration": 10,
    "start_time": "2022-10-08T17:33:51.380Z"
   },
   {
    "duration": 36,
    "start_time": "2022-10-08T17:33:51.391Z"
   },
   {
    "duration": 12,
    "start_time": "2022-10-08T17:33:51.436Z"
   },
   {
    "duration": 5,
    "start_time": "2022-10-08T17:33:51.449Z"
   },
   {
    "duration": 168,
    "start_time": "2022-10-08T17:33:51.455Z"
   },
   {
    "duration": 16,
    "start_time": "2022-10-08T17:33:51.631Z"
   },
   {
    "duration": 109,
    "start_time": "2022-10-08T17:33:51.714Z"
   },
   {
    "duration": 87,
    "start_time": "2022-10-08T17:33:51.825Z"
   },
   {
    "duration": 105,
    "start_time": "2022-10-08T17:33:51.914Z"
   },
   {
    "duration": 99,
    "start_time": "2022-10-08T17:33:52.020Z"
   },
   {
    "duration": 28,
    "start_time": "2022-10-08T17:33:52.121Z"
   },
   {
    "duration": 68,
    "start_time": "2022-10-08T17:33:52.153Z"
   },
   {
    "duration": 118,
    "start_time": "2022-10-08T17:33:52.223Z"
   },
   {
    "duration": 8,
    "start_time": "2022-10-08T17:33:52.342Z"
   },
   {
    "duration": 4,
    "start_time": "2022-10-08T17:33:58.037Z"
   },
   {
    "duration": 153,
    "start_time": "2022-10-08T17:33:58.043Z"
   },
   {
    "duration": 168,
    "start_time": "2022-10-08T17:33:58.197Z"
   },
   {
    "duration": 156,
    "start_time": "2022-10-08T17:33:58.367Z"
   },
   {
    "duration": 4,
    "start_time": "2022-10-08T17:33:58.534Z"
   },
   {
    "duration": 17,
    "start_time": "2022-10-08T17:33:58.540Z"
   },
   {
    "duration": 30,
    "start_time": "2022-10-08T17:33:58.559Z"
   },
   {
    "duration": 16,
    "start_time": "2022-10-08T17:33:58.591Z"
   },
   {
    "duration": 37,
    "start_time": "2022-10-08T17:33:58.609Z"
   },
   {
    "duration": 27,
    "start_time": "2022-10-08T17:33:58.649Z"
   },
   {
    "duration": 12,
    "start_time": "2022-10-08T17:33:58.677Z"
   },
   {
    "duration": 30,
    "start_time": "2022-10-08T17:33:58.690Z"
   },
   {
    "duration": 121,
    "start_time": "2022-10-08T17:33:58.722Z"
   },
   {
    "duration": 7,
    "start_time": "2022-10-08T17:33:58.845Z"
   },
   {
    "duration": 41,
    "start_time": "2022-10-08T17:33:58.910Z"
   },
   {
    "duration": 163,
    "start_time": "2022-10-08T17:33:58.952Z"
   },
   {
    "duration": 27,
    "start_time": "2022-10-08T17:33:59.116Z"
   },
   {
    "duration": 196,
    "start_time": "2022-10-08T17:33:59.146Z"
   },
   {
    "duration": 11,
    "start_time": "2022-10-08T17:33:59.344Z"
   },
   {
    "duration": 6,
    "start_time": "2022-10-08T17:33:59.356Z"
   },
   {
    "duration": 180,
    "start_time": "2022-10-08T17:33:59.364Z"
   },
   {
    "duration": 6,
    "start_time": "2022-10-08T17:33:59.545Z"
   },
   {
    "duration": 8,
    "start_time": "2022-10-08T17:34:01.707Z"
   },
   {
    "duration": 28,
    "start_time": "2022-10-08T17:34:01.717Z"
   },
   {
    "duration": 21,
    "start_time": "2022-10-08T17:34:01.746Z"
   },
   {
    "duration": 5,
    "start_time": "2022-10-08T17:34:01.769Z"
   },
   {
    "duration": 1203,
    "start_time": "2022-10-08T17:34:01.776Z"
   },
   {
    "duration": 1219,
    "start_time": "2022-10-08T17:34:02.981Z"
   },
   {
    "duration": 1275,
    "start_time": "2022-10-08T17:34:04.201Z"
   },
   {
    "duration": 149,
    "start_time": "2022-10-08T17:34:05.477Z"
   },
   {
    "duration": 20,
    "start_time": "2022-10-08T17:34:05.636Z"
   },
   {
    "duration": 7,
    "start_time": "2022-10-08T17:34:19.036Z"
   },
   {
    "duration": 4,
    "start_time": "2022-10-08T17:34:36.250Z"
   },
   {
    "duration": 1228,
    "start_time": "2022-10-08T17:34:38.036Z"
   },
   {
    "duration": 5,
    "start_time": "2022-10-08T17:34:40.055Z"
   },
   {
    "duration": 6,
    "start_time": "2022-10-08T17:34:43.139Z"
   },
   {
    "duration": 1164,
    "start_time": "2022-10-08T17:34:49.436Z"
   },
   {
    "duration": 5,
    "start_time": "2022-10-08T17:34:57.400Z"
   },
   {
    "duration": 1283,
    "start_time": "2022-10-08T17:35:03.685Z"
   },
   {
    "duration": 4,
    "start_time": "2022-10-08T17:35:08.767Z"
   },
   {
    "duration": 1279,
    "start_time": "2022-10-08T17:38:35.542Z"
   },
   {
    "duration": 5,
    "start_time": "2022-10-08T17:38:48.558Z"
   },
   {
    "duration": 4,
    "start_time": "2022-10-08T17:39:01.644Z"
   },
   {
    "duration": 1346,
    "start_time": "2022-10-08T17:39:04.193Z"
   },
   {
    "duration": 5,
    "start_time": "2022-10-08T17:39:15.761Z"
   },
   {
    "duration": 110,
    "start_time": "2022-10-08T17:39:24.940Z"
   },
   {
    "duration": 4,
    "start_time": "2022-10-08T17:39:26.434Z"
   },
   {
    "duration": 5,
    "start_time": "2022-10-08T17:39:30.052Z"
   },
   {
    "duration": 4,
    "start_time": "2022-10-08T17:39:33.736Z"
   },
   {
    "duration": 5,
    "start_time": "2022-10-08T17:39:35.687Z"
   },
   {
    "duration": 1438,
    "start_time": "2022-10-08T17:51:21.512Z"
   },
   {
    "duration": 160,
    "start_time": "2022-10-08T17:51:22.951Z"
   },
   {
    "duration": 155,
    "start_time": "2022-10-08T17:51:23.119Z"
   },
   {
    "duration": 161,
    "start_time": "2022-10-08T17:51:23.276Z"
   },
   {
    "duration": 4,
    "start_time": "2022-10-08T17:51:23.439Z"
   },
   {
    "duration": 15,
    "start_time": "2022-10-08T17:51:23.444Z"
   },
   {
    "duration": 18,
    "start_time": "2022-10-08T17:51:23.461Z"
   },
   {
    "duration": 33,
    "start_time": "2022-10-08T17:51:23.481Z"
   },
   {
    "duration": 23,
    "start_time": "2022-10-08T17:51:23.519Z"
   },
   {
    "duration": 29,
    "start_time": "2022-10-08T17:51:23.545Z"
   },
   {
    "duration": 48,
    "start_time": "2022-10-08T17:51:23.575Z"
   },
   {
    "duration": 112,
    "start_time": "2022-10-08T17:51:23.628Z"
   },
   {
    "duration": 9,
    "start_time": "2022-10-08T17:51:23.741Z"
   },
   {
    "duration": 113,
    "start_time": "2022-10-08T17:51:23.819Z"
   },
   {
    "duration": 20,
    "start_time": "2022-10-08T17:51:23.933Z"
   },
   {
    "duration": 54,
    "start_time": "2022-10-08T17:51:23.957Z"
   },
   {
    "duration": 11,
    "start_time": "2022-10-08T17:51:24.013Z"
   },
   {
    "duration": 216,
    "start_time": "2022-10-08T17:51:24.026Z"
   },
   {
    "duration": 14,
    "start_time": "2022-10-08T17:51:24.244Z"
   },
   {
    "duration": 63,
    "start_time": "2022-10-08T17:51:24.260Z"
   },
   {
    "duration": 119,
    "start_time": "2022-10-08T17:51:24.327Z"
   },
   {
    "duration": 79,
    "start_time": "2022-10-08T17:51:24.448Z"
   },
   {
    "duration": 91,
    "start_time": "2022-10-08T17:51:24.529Z"
   },
   {
    "duration": 32,
    "start_time": "2022-10-08T17:51:24.622Z"
   },
   {
    "duration": 8,
    "start_time": "2022-10-08T17:51:24.656Z"
   },
   {
    "duration": 6,
    "start_time": "2022-10-08T17:51:24.666Z"
   },
   {
    "duration": 1282,
    "start_time": "2022-10-08T17:51:24.674Z"
   },
   {
    "duration": 1215,
    "start_time": "2022-10-08T17:51:25.958Z"
   },
   {
    "duration": 1215,
    "start_time": "2022-10-08T17:51:27.175Z"
   },
   {
    "duration": 152,
    "start_time": "2022-10-08T17:51:28.392Z"
   },
   {
    "duration": 15,
    "start_time": "2022-10-08T17:51:28.545Z"
   },
   {
    "duration": 1736,
    "start_time": "2022-10-11T09:26:00.750Z"
   },
   {
    "duration": 3,
    "start_time": "2022-10-11T09:26:02.488Z"
   },
   {
    "duration": 8,
    "start_time": "2022-10-11T09:26:02.493Z"
   },
   {
    "duration": 5,
    "start_time": "2022-10-11T09:26:02.503Z"
   },
   {
    "duration": 5,
    "start_time": "2022-10-11T09:26:02.509Z"
   },
   {
    "duration": 1569,
    "start_time": "2022-10-11T09:26:02.515Z"
   },
   {
    "duration": 4,
    "start_time": "2022-10-11T09:26:04.086Z"
   },
   {
    "duration": 15,
    "start_time": "2022-10-11T09:26:04.092Z"
   },
   {
    "duration": 17,
    "start_time": "2022-10-11T09:26:04.109Z"
   },
   {
    "duration": 123,
    "start_time": "2022-10-11T09:26:04.129Z"
   },
   {
    "duration": 38,
    "start_time": "2022-10-11T09:26:04.254Z"
   },
   {
    "duration": 82,
    "start_time": "2022-10-11T09:26:04.294Z"
   },
   {
    "duration": 16,
    "start_time": "2022-10-11T09:26:04.378Z"
   },
   {
    "duration": 158,
    "start_time": "2022-10-11T09:26:04.395Z"
   },
   {
    "duration": 340,
    "start_time": "2022-10-11T09:26:04.554Z"
   },
   {
    "duration": 292,
    "start_time": "2022-10-11T09:26:04.896Z"
   },
   {
    "duration": 300,
    "start_time": "2022-10-11T09:26:05.190Z"
   },
   {
    "duration": 9,
    "start_time": "2022-10-11T09:26:05.492Z"
   },
   {
    "duration": 42,
    "start_time": "2022-10-11T09:26:05.502Z"
   },
   {
    "duration": 4,
    "start_time": "2022-10-11T09:26:05.545Z"
   },
   {
    "duration": 6,
    "start_time": "2022-10-11T09:26:05.550Z"
   },
   {
    "duration": 65,
    "start_time": "2022-10-11T09:26:05.558Z"
   },
   {
    "duration": 104,
    "start_time": "2022-10-11T09:26:05.625Z"
   },
   {
    "duration": 196,
    "start_time": "2022-10-11T09:26:05.731Z"
   },
   {
    "duration": 196,
    "start_time": "2022-10-11T09:26:05.928Z"
   },
   {
    "duration": 28,
    "start_time": "2022-10-11T09:26:06.126Z"
   },
   {
    "duration": 11,
    "start_time": "2022-10-11T09:26:06.156Z"
   },
   {
    "duration": 7,
    "start_time": "2022-10-11T09:26:06.171Z"
   },
   {
    "duration": 9,
    "start_time": "2022-10-11T09:26:06.179Z"
   },
   {
    "duration": 24,
    "start_time": "2022-10-11T09:26:06.190Z"
   },
   {
    "duration": 32,
    "start_time": "2022-10-11T09:26:06.216Z"
   },
   {
    "duration": 1312,
    "start_time": "2022-10-11T09:26:06.250Z"
   },
   {
    "duration": 1242,
    "start_time": "2022-10-11T09:26:07.563Z"
   },
   {
    "duration": 1223,
    "start_time": "2022-10-11T09:26:08.806Z"
   },
   {
    "duration": 20,
    "start_time": "2022-10-11T09:26:10.031Z"
   },
   {
    "duration": 1557,
    "start_time": "2022-10-11T12:18:39.403Z"
   },
   {
    "duration": 3,
    "start_time": "2022-10-11T12:18:40.962Z"
   },
   {
    "duration": 11,
    "start_time": "2022-10-11T12:18:40.967Z"
   },
   {
    "duration": 6,
    "start_time": "2022-10-11T12:18:40.979Z"
   },
   {
    "duration": 3,
    "start_time": "2022-10-11T12:18:40.987Z"
   },
   {
    "duration": 1594,
    "start_time": "2022-10-11T12:18:40.992Z"
   },
   {
    "duration": 4,
    "start_time": "2022-10-11T12:18:42.588Z"
   },
   {
    "duration": 16,
    "start_time": "2022-10-11T12:18:42.594Z"
   },
   {
    "duration": 20,
    "start_time": "2022-10-11T12:18:42.612Z"
   },
   {
    "duration": 136,
    "start_time": "2022-10-11T12:18:42.633Z"
   },
   {
    "duration": 61,
    "start_time": "2022-10-11T12:18:42.772Z"
   },
   {
    "duration": 89,
    "start_time": "2022-10-11T12:18:42.835Z"
   },
   {
    "duration": 17,
    "start_time": "2022-10-11T12:18:42.926Z"
   },
   {
    "duration": 181,
    "start_time": "2022-10-11T12:18:42.945Z"
   },
   {
    "duration": 377,
    "start_time": "2022-10-11T12:18:43.128Z"
   },
   {
    "duration": 278,
    "start_time": "2022-10-11T12:18:43.507Z"
   },
   {
    "duration": 292,
    "start_time": "2022-10-11T12:18:43.787Z"
   },
   {
    "duration": 19,
    "start_time": "2022-10-11T12:18:44.081Z"
   },
   {
    "duration": 35,
    "start_time": "2022-10-11T12:18:44.102Z"
   },
   {
    "duration": 4,
    "start_time": "2022-10-11T12:18:44.138Z"
   },
   {
    "duration": 5,
    "start_time": "2022-10-11T12:18:44.144Z"
   },
   {
    "duration": 51,
    "start_time": "2022-10-11T12:18:44.150Z"
   },
   {
    "duration": 202,
    "start_time": "2022-10-11T12:18:44.204Z"
   },
   {
    "duration": 120,
    "start_time": "2022-10-11T12:18:44.498Z"
   },
   {
    "duration": 98,
    "start_time": "2022-10-11T12:18:44.704Z"
   },
   {
    "duration": 6,
    "start_time": "2022-10-11T12:18:44.804Z"
   },
   {
    "duration": 6,
    "start_time": "2022-10-11T12:18:44.812Z"
   },
   {
    "duration": 6,
    "start_time": "2022-10-11T12:18:44.820Z"
   },
   {
    "duration": 6,
    "start_time": "2022-10-11T12:18:44.828Z"
   },
   {
    "duration": 9,
    "start_time": "2022-10-11T12:18:44.836Z"
   },
   {
    "duration": 6,
    "start_time": "2022-10-11T12:18:44.847Z"
   },
   {
    "duration": 2301,
    "start_time": "2022-10-11T12:18:44.855Z"
   },
   {
    "duration": 1334,
    "start_time": "2022-10-11T12:18:47.158Z"
   },
   {
    "duration": 1316,
    "start_time": "2022-10-11T12:18:48.494Z"
   },
   {
    "duration": 16,
    "start_time": "2022-10-11T12:18:49.813Z"
   },
   {
    "duration": 113,
    "start_time": "2022-10-11T12:20:43.310Z"
   },
   {
    "duration": 763,
    "start_time": "2022-10-11T12:20:54.590Z"
   },
   {
    "duration": 23,
    "start_time": "2022-10-11T12:21:41.500Z"
   },
   {
    "duration": 16,
    "start_time": "2022-10-11T12:21:55.747Z"
   },
   {
    "duration": 131,
    "start_time": "2022-10-11T12:22:56.932Z"
   },
   {
    "duration": 111,
    "start_time": "2022-10-11T12:24:36.230Z"
   },
   {
    "duration": 8,
    "start_time": "2022-10-11T12:24:50.410Z"
   },
   {
    "duration": 8,
    "start_time": "2022-10-11T12:24:58.423Z"
   },
   {
    "duration": 10,
    "start_time": "2022-10-11T12:25:04.542Z"
   },
   {
    "duration": 1705,
    "start_time": "2022-10-11T19:06:38.714Z"
   },
   {
    "duration": 3,
    "start_time": "2022-10-11T19:06:40.421Z"
   },
   {
    "duration": 36,
    "start_time": "2022-10-11T19:06:40.426Z"
   },
   {
    "duration": 17,
    "start_time": "2022-10-11T19:06:40.464Z"
   },
   {
    "duration": 28,
    "start_time": "2022-10-11T19:06:40.484Z"
   },
   {
    "duration": 784,
    "start_time": "2022-10-11T19:06:40.514Z"
   },
   {
    "duration": 4,
    "start_time": "2022-10-11T19:06:41.300Z"
   },
   {
    "duration": 17,
    "start_time": "2022-10-11T19:06:41.306Z"
   },
   {
    "duration": 24,
    "start_time": "2022-10-11T19:06:41.324Z"
   },
   {
    "duration": 150,
    "start_time": "2022-10-11T19:06:41.350Z"
   },
   {
    "duration": 56,
    "start_time": "2022-10-11T19:06:41.502Z"
   },
   {
    "duration": 89,
    "start_time": "2022-10-11T19:06:41.561Z"
   },
   {
    "duration": 17,
    "start_time": "2022-10-11T19:06:41.653Z"
   },
   {
    "duration": 184,
    "start_time": "2022-10-11T19:06:41.672Z"
   },
   {
    "duration": 117,
    "start_time": "2022-10-11T19:06:41.858Z"
   },
   {
    "duration": 0,
    "start_time": "2022-10-11T19:06:41.977Z"
   },
   {
    "duration": 0,
    "start_time": "2022-10-11T19:06:41.978Z"
   },
   {
    "duration": 0,
    "start_time": "2022-10-11T19:06:41.979Z"
   },
   {
    "duration": 0,
    "start_time": "2022-10-11T19:06:41.980Z"
   },
   {
    "duration": 0,
    "start_time": "2022-10-11T19:06:41.981Z"
   },
   {
    "duration": 0,
    "start_time": "2022-10-11T19:06:41.982Z"
   },
   {
    "duration": 0,
    "start_time": "2022-10-11T19:06:41.983Z"
   },
   {
    "duration": 0,
    "start_time": "2022-10-11T19:06:41.984Z"
   },
   {
    "duration": 0,
    "start_time": "2022-10-11T19:06:41.985Z"
   },
   {
    "duration": 0,
    "start_time": "2022-10-11T19:06:41.986Z"
   },
   {
    "duration": 0,
    "start_time": "2022-10-11T19:06:41.987Z"
   },
   {
    "duration": 0,
    "start_time": "2022-10-11T19:06:41.989Z"
   },
   {
    "duration": 0,
    "start_time": "2022-10-11T19:06:41.989Z"
   },
   {
    "duration": 0,
    "start_time": "2022-10-11T19:06:41.990Z"
   },
   {
    "duration": 0,
    "start_time": "2022-10-11T19:06:41.992Z"
   },
   {
    "duration": 0,
    "start_time": "2022-10-11T19:06:42.021Z"
   },
   {
    "duration": 0,
    "start_time": "2022-10-11T19:06:42.022Z"
   },
   {
    "duration": 0,
    "start_time": "2022-10-11T19:06:42.023Z"
   },
   {
    "duration": 0,
    "start_time": "2022-10-11T19:06:42.024Z"
   },
   {
    "duration": 0,
    "start_time": "2022-10-11T19:06:42.025Z"
   },
   {
    "duration": 0,
    "start_time": "2022-10-11T19:06:42.026Z"
   },
   {
    "duration": 1544,
    "start_time": "2022-10-11T19:09:42.147Z"
   },
   {
    "duration": 1737,
    "start_time": "2022-10-11T19:28:39.089Z"
   },
   {
    "duration": 1394,
    "start_time": "2022-10-11T19:29:01.912Z"
   },
   {
    "duration": 15,
    "start_time": "2022-10-11T19:30:16.778Z"
   },
   {
    "duration": 14,
    "start_time": "2022-10-11T19:30:27.613Z"
   },
   {
    "duration": 2131,
    "start_time": "2022-10-11T19:30:41.036Z"
   },
   {
    "duration": 1933,
    "start_time": "2022-10-11T19:31:37.484Z"
   },
   {
    "duration": 1538,
    "start_time": "2022-10-11T19:31:53.887Z"
   },
   {
    "duration": 1526,
    "start_time": "2022-10-11T19:32:05.771Z"
   },
   {
    "duration": 1725,
    "start_time": "2022-10-11T19:32:18.100Z"
   },
   {
    "duration": 1540,
    "start_time": "2022-10-11T19:32:37.384Z"
   },
   {
    "duration": 4,
    "start_time": "2022-10-11T20:19:23.669Z"
   },
   {
    "duration": 11,
    "start_time": "2022-10-11T20:19:24.612Z"
   },
   {
    "duration": 1391,
    "start_time": "2022-10-11T20:19:45.896Z"
   },
   {
    "duration": 4,
    "start_time": "2022-10-11T20:19:47.290Z"
   },
   {
    "duration": 26,
    "start_time": "2022-10-11T20:19:47.296Z"
   },
   {
    "duration": 15,
    "start_time": "2022-10-11T20:19:47.325Z"
   },
   {
    "duration": 13,
    "start_time": "2022-10-11T20:19:47.342Z"
   },
   {
    "duration": 407,
    "start_time": "2022-10-11T20:19:47.357Z"
   },
   {
    "duration": 4,
    "start_time": "2022-10-11T20:19:47.766Z"
   },
   {
    "duration": 18,
    "start_time": "2022-10-11T20:19:47.772Z"
   },
   {
    "duration": 40,
    "start_time": "2022-10-11T20:19:47.793Z"
   },
   {
    "duration": 136,
    "start_time": "2022-10-11T20:19:47.837Z"
   },
   {
    "duration": 53,
    "start_time": "2022-10-11T20:19:47.975Z"
   },
   {
    "duration": 67,
    "start_time": "2022-10-11T20:19:48.030Z"
   },
   {
    "duration": 31,
    "start_time": "2022-10-11T20:19:48.099Z"
   },
   {
    "duration": 181,
    "start_time": "2022-10-11T20:19:48.132Z"
   },
   {
    "duration": 124,
    "start_time": "2022-10-11T20:19:48.315Z"
   },
   {
    "duration": 0,
    "start_time": "2022-10-11T20:19:48.442Z"
   },
   {
    "duration": 0,
    "start_time": "2022-10-11T20:19:48.443Z"
   },
   {
    "duration": 0,
    "start_time": "2022-10-11T20:19:48.445Z"
   },
   {
    "duration": 0,
    "start_time": "2022-10-11T20:19:48.446Z"
   },
   {
    "duration": 0,
    "start_time": "2022-10-11T20:19:48.447Z"
   },
   {
    "duration": 0,
    "start_time": "2022-10-11T20:19:48.449Z"
   },
   {
    "duration": 0,
    "start_time": "2022-10-11T20:19:48.450Z"
   },
   {
    "duration": 0,
    "start_time": "2022-10-11T20:19:48.451Z"
   },
   {
    "duration": 0,
    "start_time": "2022-10-11T20:19:48.453Z"
   },
   {
    "duration": 0,
    "start_time": "2022-10-11T20:19:48.454Z"
   },
   {
    "duration": 0,
    "start_time": "2022-10-11T20:19:48.456Z"
   },
   {
    "duration": 0,
    "start_time": "2022-10-11T20:19:48.457Z"
   },
   {
    "duration": 0,
    "start_time": "2022-10-11T20:19:48.459Z"
   },
   {
    "duration": 0,
    "start_time": "2022-10-11T20:19:48.460Z"
   },
   {
    "duration": 0,
    "start_time": "2022-10-11T20:19:48.461Z"
   },
   {
    "duration": 0,
    "start_time": "2022-10-11T20:19:48.463Z"
   },
   {
    "duration": 0,
    "start_time": "2022-10-11T20:19:48.464Z"
   },
   {
    "duration": 0,
    "start_time": "2022-10-11T20:19:48.465Z"
   },
   {
    "duration": 0,
    "start_time": "2022-10-11T20:19:48.466Z"
   },
   {
    "duration": 0,
    "start_time": "2022-10-11T20:19:48.467Z"
   },
   {
    "duration": 0,
    "start_time": "2022-10-11T20:19:48.469Z"
   },
   {
    "duration": 0,
    "start_time": "2022-10-11T20:19:48.470Z"
   },
   {
    "duration": 0,
    "start_time": "2022-10-11T20:19:48.471Z"
   },
   {
    "duration": 0,
    "start_time": "2022-10-11T20:19:48.473Z"
   },
   {
    "duration": 1400,
    "start_time": "2022-10-11T20:20:33.663Z"
   },
   {
    "duration": 3,
    "start_time": "2022-10-11T20:20:35.065Z"
   },
   {
    "duration": 38,
    "start_time": "2022-10-11T20:20:35.070Z"
   },
   {
    "duration": 38,
    "start_time": "2022-10-11T20:20:35.111Z"
   },
   {
    "duration": 36,
    "start_time": "2022-10-11T20:20:35.150Z"
   },
   {
    "duration": 441,
    "start_time": "2022-10-11T20:20:35.188Z"
   },
   {
    "duration": 4,
    "start_time": "2022-10-11T20:20:35.631Z"
   },
   {
    "duration": 40,
    "start_time": "2022-10-11T20:20:35.637Z"
   },
   {
    "duration": 41,
    "start_time": "2022-10-11T20:20:35.679Z"
   },
   {
    "duration": 147,
    "start_time": "2022-10-11T20:20:35.722Z"
   },
   {
    "duration": 41,
    "start_time": "2022-10-11T20:20:35.871Z"
   },
   {
    "duration": 69,
    "start_time": "2022-10-11T20:20:35.921Z"
   },
   {
    "duration": 28,
    "start_time": "2022-10-11T20:20:35.992Z"
   },
   {
    "duration": 187,
    "start_time": "2022-10-11T20:20:36.022Z"
   },
   {
    "duration": 1504,
    "start_time": "2022-10-11T20:20:36.210Z"
   },
   {
    "duration": 2939,
    "start_time": "2022-10-11T20:20:37.717Z"
   },
   {
    "duration": 508,
    "start_time": "2022-10-11T20:20:40.658Z"
   },
   {
    "duration": 483,
    "start_time": "2022-10-11T20:20:41.168Z"
   },
   {
    "duration": 570,
    "start_time": "2022-10-11T20:20:41.653Z"
   },
   {
    "duration": 9,
    "start_time": "2022-10-11T20:20:42.224Z"
   },
   {
    "duration": 85,
    "start_time": "2022-10-11T20:20:42.235Z"
   },
   {
    "duration": 4,
    "start_time": "2022-10-11T20:20:42.322Z"
   },
   {
    "duration": 12,
    "start_time": "2022-10-11T20:20:42.328Z"
   },
   {
    "duration": 83,
    "start_time": "2022-10-11T20:20:42.342Z"
   },
   {
    "duration": 195,
    "start_time": "2022-10-11T20:20:42.427Z"
   },
   {
    "duration": 116,
    "start_time": "2022-10-11T20:20:42.623Z"
   },
   {
    "duration": 105,
    "start_time": "2022-10-11T20:20:42.820Z"
   },
   {
    "duration": 20,
    "start_time": "2022-10-11T20:20:42.929Z"
   },
   {
    "duration": 7,
    "start_time": "2022-10-11T20:20:42.951Z"
   },
   {
    "duration": 13,
    "start_time": "2022-10-11T20:20:42.960Z"
   },
   {
    "duration": 46,
    "start_time": "2022-10-11T20:20:42.975Z"
   },
   {
    "duration": 10,
    "start_time": "2022-10-11T20:20:43.023Z"
   },
   {
    "duration": 7,
    "start_time": "2022-10-11T20:20:43.034Z"
   },
   {
    "duration": 2818,
    "start_time": "2022-10-11T20:20:43.043Z"
   },
   {
    "duration": 1451,
    "start_time": "2022-10-11T20:20:45.863Z"
   },
   {
    "duration": 1389,
    "start_time": "2022-10-11T20:20:47.316Z"
   },
   {
    "duration": 4,
    "start_time": "2022-10-11T20:20:48.707Z"
   },
   {
    "duration": 16,
    "start_time": "2022-10-11T20:20:48.712Z"
   },
   {
    "duration": 3,
    "start_time": "2022-10-11T20:24:32.953Z"
   },
   {
    "duration": 1526,
    "start_time": "2022-10-11T20:31:03.097Z"
   },
   {
    "duration": 4,
    "start_time": "2022-10-11T20:31:04.625Z"
   },
   {
    "duration": 15,
    "start_time": "2022-10-11T20:31:04.631Z"
   },
   {
    "duration": 18,
    "start_time": "2022-10-11T20:31:04.647Z"
   },
   {
    "duration": 7,
    "start_time": "2022-10-11T20:31:04.668Z"
   },
   {
    "duration": 409,
    "start_time": "2022-10-11T20:31:04.677Z"
   },
   {
    "duration": 4,
    "start_time": "2022-10-11T20:31:05.088Z"
   },
   {
    "duration": 16,
    "start_time": "2022-10-11T20:31:05.094Z"
   },
   {
    "duration": 36,
    "start_time": "2022-10-11T20:31:05.121Z"
   },
   {
    "duration": 151,
    "start_time": "2022-10-11T20:31:05.159Z"
   },
   {
    "duration": 62,
    "start_time": "2022-10-11T20:31:05.312Z"
   },
   {
    "duration": 105,
    "start_time": "2022-10-11T20:31:05.377Z"
   },
   {
    "duration": 18,
    "start_time": "2022-10-11T20:31:05.483Z"
   },
   {
    "duration": 192,
    "start_time": "2022-10-11T20:31:05.504Z"
   },
   {
    "duration": 1660,
    "start_time": "2022-10-11T20:31:05.698Z"
   },
   {
    "duration": 1916,
    "start_time": "2022-10-11T20:31:07.360Z"
   },
   {
    "duration": 428,
    "start_time": "2022-10-11T20:31:09.278Z"
   },
   {
    "duration": 315,
    "start_time": "2022-10-11T20:31:09.708Z"
   },
   {
    "duration": 304,
    "start_time": "2022-10-11T20:31:10.025Z"
   },
   {
    "duration": 12,
    "start_time": "2022-10-11T20:31:10.332Z"
   },
   {
    "duration": 51,
    "start_time": "2022-10-11T20:31:10.346Z"
   },
   {
    "duration": 5,
    "start_time": "2022-10-11T20:31:10.399Z"
   },
   {
    "duration": 16,
    "start_time": "2022-10-11T20:31:10.406Z"
   },
   {
    "duration": 35,
    "start_time": "2022-10-11T20:31:10.424Z"
   },
   {
    "duration": 107,
    "start_time": "2022-10-11T20:31:10.520Z"
   },
   {
    "duration": 207,
    "start_time": "2022-10-11T20:31:10.629Z"
   },
   {
    "duration": 10,
    "start_time": "2022-10-11T20:31:10.920Z"
   },
   {
    "duration": 101,
    "start_time": "2022-10-11T20:31:10.932Z"
   },
   {
    "duration": 10,
    "start_time": "2022-10-11T20:31:11.035Z"
   },
   {
    "duration": 5,
    "start_time": "2022-10-11T20:31:11.047Z"
   },
   {
    "duration": 8,
    "start_time": "2022-10-11T20:31:11.053Z"
   },
   {
    "duration": 8,
    "start_time": "2022-10-11T20:31:11.062Z"
   },
   {
    "duration": 1678,
    "start_time": "2022-10-11T20:31:11.072Z"
   },
   {
    "duration": 1428,
    "start_time": "2022-10-11T20:31:12.752Z"
   },
   {
    "duration": 1454,
    "start_time": "2022-10-11T20:31:14.182Z"
   },
   {
    "duration": 4,
    "start_time": "2022-10-11T20:31:15.638Z"
   },
   {
    "duration": 16,
    "start_time": "2022-10-11T20:31:15.643Z"
   },
   {
    "duration": 113,
    "start_time": "2022-10-11T20:39:57.602Z"
   },
   {
    "duration": 1461,
    "start_time": "2022-10-11T20:43:04.644Z"
   },
   {
    "duration": 4,
    "start_time": "2022-10-11T20:43:06.108Z"
   },
   {
    "duration": 9,
    "start_time": "2022-10-11T20:43:06.114Z"
   },
   {
    "duration": 15,
    "start_time": "2022-10-11T20:43:06.125Z"
   },
   {
    "duration": 11,
    "start_time": "2022-10-11T20:43:06.142Z"
   },
   {
    "duration": 413,
    "start_time": "2022-10-11T20:43:06.155Z"
   },
   {
    "duration": 4,
    "start_time": "2022-10-11T20:43:06.570Z"
   },
   {
    "duration": 24,
    "start_time": "2022-10-11T20:43:06.577Z"
   },
   {
    "duration": 44,
    "start_time": "2022-10-11T20:43:06.603Z"
   },
   {
    "duration": 145,
    "start_time": "2022-10-11T20:43:06.650Z"
   },
   {
    "duration": 63,
    "start_time": "2022-10-11T20:43:06.798Z"
   },
   {
    "duration": 97,
    "start_time": "2022-10-11T20:43:06.863Z"
   },
   {
    "duration": 18,
    "start_time": "2022-10-11T20:43:06.961Z"
   },
   {
    "duration": 198,
    "start_time": "2022-10-11T20:43:06.981Z"
   },
   {
    "duration": 2280,
    "start_time": "2022-10-11T20:43:07.181Z"
   },
   {
    "duration": 3594,
    "start_time": "2022-10-11T20:43:09.463Z"
   },
   {
    "duration": 572,
    "start_time": "2022-10-11T20:43:13.059Z"
   },
   {
    "duration": 289,
    "start_time": "2022-10-11T20:43:13.633Z"
   },
   {
    "duration": 298,
    "start_time": "2022-10-11T20:43:13.924Z"
   },
   {
    "duration": 8,
    "start_time": "2022-10-11T20:43:14.224Z"
   },
   {
    "duration": 35,
    "start_time": "2022-10-11T20:43:14.234Z"
   },
   {
    "duration": 4,
    "start_time": "2022-10-11T20:43:14.271Z"
   },
   {
    "duration": 10,
    "start_time": "2022-10-11T20:43:14.277Z"
   },
   {
    "duration": 35,
    "start_time": "2022-10-11T20:43:14.288Z"
   },
   {
    "duration": 198,
    "start_time": "2022-10-11T20:43:14.325Z"
   },
   {
    "duration": 197,
    "start_time": "2022-10-11T20:43:14.526Z"
   },
   {
    "duration": 7,
    "start_time": "2022-10-11T20:43:14.725Z"
   },
   {
    "duration": 97,
    "start_time": "2022-10-11T20:43:14.738Z"
   },
   {
    "duration": 7,
    "start_time": "2022-10-11T20:43:14.837Z"
   },
   {
    "duration": 10,
    "start_time": "2022-10-11T20:43:14.846Z"
   },
   {
    "duration": 8,
    "start_time": "2022-10-11T20:43:14.858Z"
   },
   {
    "duration": 10,
    "start_time": "2022-10-11T20:43:14.869Z"
   },
   {
    "duration": 1493,
    "start_time": "2022-10-11T20:43:14.882Z"
   },
   {
    "duration": 1381,
    "start_time": "2022-10-11T20:43:16.377Z"
   },
   {
    "duration": 1431,
    "start_time": "2022-10-11T20:43:17.760Z"
   },
   {
    "duration": 4,
    "start_time": "2022-10-11T20:43:19.192Z"
   },
   {
    "duration": 25,
    "start_time": "2022-10-11T20:43:19.198Z"
   },
   {
    "duration": 57,
    "start_time": "2022-10-11T20:56:46.723Z"
   },
   {
    "duration": 685,
    "start_time": "2022-10-11T20:57:00.383Z"
   },
   {
    "duration": 1563,
    "start_time": "2022-10-11T20:58:53.343Z"
   },
   {
    "duration": 1463,
    "start_time": "2022-10-11T20:59:30.549Z"
   },
   {
    "duration": 1389,
    "start_time": "2022-10-11T21:00:16.017Z"
   },
   {
    "duration": 1474,
    "start_time": "2022-10-11T21:00:41.114Z"
   },
   {
    "duration": 1455,
    "start_time": "2022-10-11T21:01:07.961Z"
   },
   {
    "duration": 1367,
    "start_time": "2022-10-11T21:01:17.039Z"
   },
   {
    "duration": 1416,
    "start_time": "2022-10-11T21:01:26.196Z"
   },
   {
    "duration": 1614,
    "start_time": "2022-10-11T21:01:39.318Z"
   },
   {
    "duration": 1344,
    "start_time": "2022-10-11T21:01:50.951Z"
   },
   {
    "duration": 1409,
    "start_time": "2022-10-11T21:02:07.606Z"
   },
   {
    "duration": 1382,
    "start_time": "2022-10-11T21:02:16.798Z"
   },
   {
    "duration": 1350,
    "start_time": "2022-10-11T21:02:30.625Z"
   },
   {
    "duration": 1353,
    "start_time": "2022-10-11T21:02:41.921Z"
   },
   {
    "duration": 13,
    "start_time": "2022-10-11T21:03:05.987Z"
   },
   {
    "duration": 1430,
    "start_time": "2022-10-11T21:06:06.674Z"
   },
   {
    "duration": 1377,
    "start_time": "2022-10-11T21:06:25.633Z"
   },
   {
    "duration": 1401,
    "start_time": "2022-10-11T21:06:36.692Z"
   },
   {
    "duration": 1387,
    "start_time": "2022-10-11T21:11:40.749Z"
   },
   {
    "duration": 3,
    "start_time": "2022-10-11T21:11:42.138Z"
   },
   {
    "duration": 9,
    "start_time": "2022-10-11T21:11:42.143Z"
   },
   {
    "duration": 9,
    "start_time": "2022-10-11T21:11:42.153Z"
   },
   {
    "duration": 5,
    "start_time": "2022-10-11T21:11:42.165Z"
   },
   {
    "duration": 389,
    "start_time": "2022-10-11T21:11:42.171Z"
   },
   {
    "duration": 5,
    "start_time": "2022-10-11T21:11:42.561Z"
   },
   {
    "duration": 19,
    "start_time": "2022-10-11T21:11:42.568Z"
   },
   {
    "duration": 33,
    "start_time": "2022-10-11T21:11:42.588Z"
   },
   {
    "duration": 152,
    "start_time": "2022-10-11T21:11:42.623Z"
   },
   {
    "duration": 57,
    "start_time": "2022-10-11T21:11:42.777Z"
   },
   {
    "duration": 67,
    "start_time": "2022-10-11T21:11:42.836Z"
   },
   {
    "duration": 28,
    "start_time": "2022-10-11T21:11:42.905Z"
   },
   {
    "duration": 174,
    "start_time": "2022-10-11T21:11:42.938Z"
   },
   {
    "duration": 4,
    "start_time": "2022-10-11T21:11:43.121Z"
   },
   {
    "duration": 1347,
    "start_time": "2022-10-11T21:11:43.126Z"
   },
   {
    "duration": 118,
    "start_time": "2022-10-11T21:11:44.475Z"
   },
   {
    "duration": 0,
    "start_time": "2022-10-11T21:11:44.595Z"
   },
   {
    "duration": 0,
    "start_time": "2022-10-11T21:11:44.596Z"
   },
   {
    "duration": 0,
    "start_time": "2022-10-11T21:11:44.598Z"
   },
   {
    "duration": 0,
    "start_time": "2022-10-11T21:11:44.599Z"
   },
   {
    "duration": 0,
    "start_time": "2022-10-11T21:11:44.600Z"
   },
   {
    "duration": 0,
    "start_time": "2022-10-11T21:11:44.601Z"
   },
   {
    "duration": 0,
    "start_time": "2022-10-11T21:11:44.602Z"
   },
   {
    "duration": 0,
    "start_time": "2022-10-11T21:11:44.603Z"
   },
   {
    "duration": 0,
    "start_time": "2022-10-11T21:11:44.604Z"
   },
   {
    "duration": 0,
    "start_time": "2022-10-11T21:11:44.620Z"
   },
   {
    "duration": 0,
    "start_time": "2022-10-11T21:11:44.621Z"
   },
   {
    "duration": 0,
    "start_time": "2022-10-11T21:11:44.623Z"
   },
   {
    "duration": 0,
    "start_time": "2022-10-11T21:11:44.624Z"
   },
   {
    "duration": 0,
    "start_time": "2022-10-11T21:11:44.625Z"
   },
   {
    "duration": 0,
    "start_time": "2022-10-11T21:11:44.626Z"
   },
   {
    "duration": 0,
    "start_time": "2022-10-11T21:11:44.627Z"
   },
   {
    "duration": 0,
    "start_time": "2022-10-11T21:11:44.628Z"
   },
   {
    "duration": 0,
    "start_time": "2022-10-11T21:11:44.629Z"
   },
   {
    "duration": 0,
    "start_time": "2022-10-11T21:11:44.630Z"
   },
   {
    "duration": 0,
    "start_time": "2022-10-11T21:11:44.631Z"
   },
   {
    "duration": 0,
    "start_time": "2022-10-11T21:11:44.632Z"
   },
   {
    "duration": 0,
    "start_time": "2022-10-11T21:11:44.633Z"
   },
   {
    "duration": 1412,
    "start_time": "2022-10-11T21:12:36.482Z"
   },
   {
    "duration": 4,
    "start_time": "2022-10-11T21:12:37.896Z"
   },
   {
    "duration": 6,
    "start_time": "2022-10-11T21:12:37.901Z"
   },
   {
    "duration": 12,
    "start_time": "2022-10-11T21:12:37.908Z"
   },
   {
    "duration": 13,
    "start_time": "2022-10-11T21:12:37.922Z"
   },
   {
    "duration": 394,
    "start_time": "2022-10-11T21:12:37.937Z"
   },
   {
    "duration": 4,
    "start_time": "2022-10-11T21:12:38.334Z"
   },
   {
    "duration": 18,
    "start_time": "2022-10-11T21:12:38.340Z"
   },
   {
    "duration": 22,
    "start_time": "2022-10-11T21:12:38.361Z"
   },
   {
    "duration": 158,
    "start_time": "2022-10-11T21:12:38.384Z"
   },
   {
    "duration": 46,
    "start_time": "2022-10-11T21:12:38.543Z"
   },
   {
    "duration": 90,
    "start_time": "2022-10-11T21:12:38.591Z"
   },
   {
    "duration": 17,
    "start_time": "2022-10-11T21:12:38.683Z"
   },
   {
    "duration": 199,
    "start_time": "2022-10-11T21:12:38.703Z"
   },
   {
    "duration": 5,
    "start_time": "2022-10-11T21:12:38.904Z"
   },
   {
    "duration": 1373,
    "start_time": "2022-10-11T21:12:38.920Z"
   },
   {
    "duration": 329,
    "start_time": "2022-10-11T21:12:40.294Z"
   },
   {
    "duration": 284,
    "start_time": "2022-10-11T21:12:40.624Z"
   },
   {
    "duration": 283,
    "start_time": "2022-10-11T21:12:40.910Z"
   },
   {
    "duration": 8,
    "start_time": "2022-10-11T21:12:41.195Z"
   },
   {
    "duration": 53,
    "start_time": "2022-10-11T21:12:41.204Z"
   },
   {
    "duration": 3,
    "start_time": "2022-10-11T21:12:41.259Z"
   },
   {
    "duration": 8,
    "start_time": "2022-10-11T21:12:41.264Z"
   },
   {
    "duration": 50,
    "start_time": "2022-10-11T21:12:41.274Z"
   },
   {
    "duration": 105,
    "start_time": "2022-10-11T21:12:41.326Z"
   },
   {
    "duration": 114,
    "start_time": "2022-10-11T21:12:41.523Z"
   },
   {
    "duration": 85,
    "start_time": "2022-10-11T21:12:41.641Z"
   },
   {
    "duration": 176,
    "start_time": "2022-10-11T21:12:41.730Z"
   },
   {
    "duration": 5,
    "start_time": "2022-10-11T21:12:41.920Z"
   },
   {
    "duration": 6,
    "start_time": "2022-10-11T21:12:41.927Z"
   },
   {
    "duration": 6,
    "start_time": "2022-10-11T21:12:41.934Z"
   },
   {
    "duration": 5,
    "start_time": "2022-10-11T21:12:41.942Z"
   },
   {
    "duration": 5,
    "start_time": "2022-10-11T21:12:41.948Z"
   },
   {
    "duration": 1410,
    "start_time": "2022-10-11T21:12:41.955Z"
   },
   {
    "duration": 1380,
    "start_time": "2022-10-11T21:12:43.367Z"
   },
   {
    "duration": 1349,
    "start_time": "2022-10-11T21:12:44.749Z"
   },
   {
    "duration": 4,
    "start_time": "2022-10-11T21:12:46.100Z"
   },
   {
    "duration": 20,
    "start_time": "2022-10-11T21:12:46.106Z"
   },
   {
    "duration": 1590,
    "start_time": "2022-10-12T17:30:52.677Z"
   },
   {
    "duration": 3,
    "start_time": "2022-10-12T17:30:54.269Z"
   },
   {
    "duration": 10,
    "start_time": "2022-10-12T17:30:54.274Z"
   },
   {
    "duration": 5,
    "start_time": "2022-10-12T17:30:54.286Z"
   },
   {
    "duration": 5,
    "start_time": "2022-10-12T17:30:54.293Z"
   },
   {
    "duration": 711,
    "start_time": "2022-10-12T17:30:54.299Z"
   },
   {
    "duration": 5,
    "start_time": "2022-10-12T17:30:55.012Z"
   },
   {
    "duration": 23,
    "start_time": "2022-10-12T17:30:55.018Z"
   },
   {
    "duration": 17,
    "start_time": "2022-10-12T17:30:55.043Z"
   },
   {
    "duration": 118,
    "start_time": "2022-10-12T17:30:55.062Z"
   },
   {
    "duration": 43,
    "start_time": "2022-10-12T17:30:55.181Z"
   },
   {
    "duration": 74,
    "start_time": "2022-10-12T17:30:55.226Z"
   },
   {
    "duration": 17,
    "start_time": "2022-10-12T17:30:55.302Z"
   },
   {
    "duration": 158,
    "start_time": "2022-10-12T17:30:55.322Z"
   },
   {
    "duration": 5,
    "start_time": "2022-10-12T17:30:55.481Z"
   },
   {
    "duration": 524,
    "start_time": "2022-10-12T17:30:55.500Z"
   },
   {
    "duration": 487,
    "start_time": "2022-10-12T17:30:56.026Z"
   },
   {
    "duration": 492,
    "start_time": "2022-10-12T17:30:56.515Z"
   },
   {
    "duration": 262,
    "start_time": "2022-10-12T17:30:57.008Z"
   },
   {
    "duration": 350,
    "start_time": "2022-10-12T17:30:57.272Z"
   },
   {
    "duration": 260,
    "start_time": "2022-10-12T17:30:57.624Z"
   },
   {
    "duration": 18,
    "start_time": "2022-10-12T17:30:57.886Z"
   },
   {
    "duration": 38,
    "start_time": "2022-10-12T17:30:57.905Z"
   },
   {
    "duration": 3,
    "start_time": "2022-10-12T17:30:57.944Z"
   },
   {
    "duration": 24,
    "start_time": "2022-10-12T17:30:57.949Z"
   },
   {
    "duration": 27,
    "start_time": "2022-10-12T17:30:57.976Z"
   },
   {
    "duration": 205,
    "start_time": "2022-10-12T17:30:58.004Z"
   },
   {
    "duration": 201,
    "start_time": "2022-10-12T17:30:58.212Z"
   },
   {
    "duration": 84,
    "start_time": "2022-10-12T17:30:58.415Z"
   },
   {
    "duration": 5,
    "start_time": "2022-10-12T17:30:58.501Z"
   },
   {
    "duration": 105,
    "start_time": "2022-10-12T17:30:58.507Z"
   },
   {
    "duration": 13,
    "start_time": "2022-10-12T17:30:58.614Z"
   },
   {
    "duration": 6,
    "start_time": "2022-10-12T17:30:58.629Z"
   },
   {
    "duration": 9,
    "start_time": "2022-10-12T17:30:58.636Z"
   },
   {
    "duration": 9,
    "start_time": "2022-10-12T17:30:58.647Z"
   },
   {
    "duration": 1248,
    "start_time": "2022-10-12T17:30:58.658Z"
   },
   {
    "duration": 1263,
    "start_time": "2022-10-12T17:30:59.908Z"
   },
   {
    "duration": 1246,
    "start_time": "2022-10-12T17:31:01.172Z"
   },
   {
    "duration": 4,
    "start_time": "2022-10-12T17:31:02.420Z"
   },
   {
    "duration": 13,
    "start_time": "2022-10-12T17:31:02.425Z"
   },
   {
    "duration": 248,
    "start_time": "2022-10-12T17:31:45.336Z"
   },
   {
    "duration": 11,
    "start_time": "2022-10-12T17:31:51.241Z"
   },
   {
    "duration": 290,
    "start_time": "2022-10-12T17:32:00.548Z"
   },
   {
    "duration": 293,
    "start_time": "2022-10-12T17:32:08.627Z"
   },
   {
    "duration": 425,
    "start_time": "2022-10-12T17:32:14.194Z"
   },
   {
    "duration": 410,
    "start_time": "2022-10-12T17:32:18.711Z"
   },
   {
    "duration": 642,
    "start_time": "2022-10-12T17:32:40.283Z"
   },
   {
    "duration": 1416,
    "start_time": "2022-10-12T17:33:35.754Z"
   },
   {
    "duration": 3,
    "start_time": "2022-10-12T17:33:37.172Z"
   },
   {
    "duration": 17,
    "start_time": "2022-10-12T17:33:37.176Z"
   },
   {
    "duration": 18,
    "start_time": "2022-10-12T17:33:37.195Z"
   },
   {
    "duration": 25,
    "start_time": "2022-10-12T17:33:37.214Z"
   },
   {
    "duration": 388,
    "start_time": "2022-10-12T17:33:37.241Z"
   },
   {
    "duration": 4,
    "start_time": "2022-10-12T17:33:37.631Z"
   },
   {
    "duration": 36,
    "start_time": "2022-10-12T17:33:37.636Z"
   },
   {
    "duration": 32,
    "start_time": "2022-10-12T17:33:37.673Z"
   },
   {
    "duration": 117,
    "start_time": "2022-10-12T17:33:37.708Z"
   },
   {
    "duration": 36,
    "start_time": "2022-10-12T17:33:37.826Z"
   },
   {
    "duration": 72,
    "start_time": "2022-10-12T17:33:37.864Z"
   },
   {
    "duration": 15,
    "start_time": "2022-10-12T17:33:37.937Z"
   },
   {
    "duration": 149,
    "start_time": "2022-10-12T17:33:37.954Z"
   },
   {
    "duration": 4,
    "start_time": "2022-10-12T17:33:38.104Z"
   },
   {
    "duration": 1297,
    "start_time": "2022-10-12T17:33:38.109Z"
   },
   {
    "duration": 263,
    "start_time": "2022-10-12T17:33:39.407Z"
   },
   {
    "duration": 299,
    "start_time": "2022-10-12T17:33:39.671Z"
   },
   {
    "duration": 300,
    "start_time": "2022-10-12T17:33:39.971Z"
   },
   {
    "duration": 7,
    "start_time": "2022-10-12T17:33:40.273Z"
   },
   {
    "duration": 47,
    "start_time": "2022-10-12T17:33:40.282Z"
   },
   {
    "duration": 4,
    "start_time": "2022-10-12T17:33:40.330Z"
   },
   {
    "duration": 15,
    "start_time": "2022-10-12T17:33:40.335Z"
   },
   {
    "duration": 54,
    "start_time": "2022-10-12T17:33:40.351Z"
   },
   {
    "duration": 106,
    "start_time": "2022-10-12T17:33:40.407Z"
   },
   {
    "duration": 288,
    "start_time": "2022-10-12T17:33:40.515Z"
   },
   {
    "duration": 5,
    "start_time": "2022-10-12T17:33:40.805Z"
   },
   {
    "duration": 10,
    "start_time": "2022-10-12T17:33:40.900Z"
   },
   {
    "duration": 96,
    "start_time": "2022-10-12T17:33:40.912Z"
   },
   {
    "duration": 5,
    "start_time": "2022-10-12T17:33:41.010Z"
   },
   {
    "duration": 10,
    "start_time": "2022-10-12T17:33:41.016Z"
   },
   {
    "duration": 6,
    "start_time": "2022-10-12T17:33:41.028Z"
   },
   {
    "duration": 7,
    "start_time": "2022-10-12T17:33:41.035Z"
   },
   {
    "duration": 1313,
    "start_time": "2022-10-12T17:33:41.043Z"
   },
   {
    "duration": 1203,
    "start_time": "2022-10-12T17:33:42.357Z"
   },
   {
    "duration": 1341,
    "start_time": "2022-10-12T17:33:43.562Z"
   },
   {
    "duration": 4,
    "start_time": "2022-10-12T17:33:44.904Z"
   },
   {
    "duration": 51,
    "start_time": "2022-10-12T17:33:44.909Z"
   },
   {
    "duration": 1542,
    "start_time": "2022-10-12T17:54:32.142Z"
   },
   {
    "duration": 4,
    "start_time": "2022-10-12T17:54:33.686Z"
   },
   {
    "duration": 22,
    "start_time": "2022-10-12T17:54:33.692Z"
   },
   {
    "duration": 5,
    "start_time": "2022-10-12T17:54:33.717Z"
   },
   {
    "duration": 5,
    "start_time": "2022-10-12T17:54:33.724Z"
   },
   {
    "duration": 411,
    "start_time": "2022-10-12T17:54:33.730Z"
   },
   {
    "duration": 4,
    "start_time": "2022-10-12T17:54:34.143Z"
   },
   {
    "duration": 18,
    "start_time": "2022-10-12T17:54:34.149Z"
   },
   {
    "duration": 42,
    "start_time": "2022-10-12T17:54:34.169Z"
   },
   {
    "duration": 133,
    "start_time": "2022-10-12T17:54:34.215Z"
   },
   {
    "duration": 52,
    "start_time": "2022-10-12T17:54:34.350Z"
   },
   {
    "duration": 79,
    "start_time": "2022-10-12T17:54:34.404Z"
   },
   {
    "duration": 20,
    "start_time": "2022-10-12T17:54:34.485Z"
   },
   {
    "duration": 181,
    "start_time": "2022-10-12T17:54:34.507Z"
   },
   {
    "duration": 1328,
    "start_time": "2022-10-12T17:54:34.690Z"
   },
   {
    "duration": 612,
    "start_time": "2022-10-12T17:54:36.020Z"
   },
   {
    "duration": 429,
    "start_time": "2022-10-12T17:54:36.634Z"
   },
   {
    "duration": 714,
    "start_time": "2022-10-12T17:54:37.064Z"
   },
   {
    "duration": 286,
    "start_time": "2022-10-12T17:54:37.779Z"
   },
   {
    "duration": 297,
    "start_time": "2022-10-12T17:54:38.067Z"
   },
   {
    "duration": 288,
    "start_time": "2022-10-12T17:54:38.366Z"
   },
   {
    "duration": 7,
    "start_time": "2022-10-12T17:54:38.656Z"
   },
   {
    "duration": 39,
    "start_time": "2022-10-12T17:54:38.665Z"
   },
   {
    "duration": 3,
    "start_time": "2022-10-12T17:54:38.706Z"
   },
   {
    "duration": 9,
    "start_time": "2022-10-12T17:54:38.711Z"
   },
   {
    "duration": 78,
    "start_time": "2022-10-12T17:54:38.721Z"
   },
   {
    "duration": 103,
    "start_time": "2022-10-12T17:54:38.802Z"
   },
   {
    "duration": 199,
    "start_time": "2022-10-12T17:54:38.908Z"
   },
   {
    "duration": 95,
    "start_time": "2022-10-12T17:54:39.108Z"
   },
   {
    "duration": 105,
    "start_time": "2022-10-12T17:54:39.204Z"
   },
   {
    "duration": 4,
    "start_time": "2022-10-12T17:54:39.310Z"
   },
   {
    "duration": 7,
    "start_time": "2022-10-12T17:54:39.316Z"
   },
   {
    "duration": 6,
    "start_time": "2022-10-12T17:54:39.324Z"
   },
   {
    "duration": 10,
    "start_time": "2022-10-12T17:54:39.332Z"
   },
   {
    "duration": 6,
    "start_time": "2022-10-12T17:54:39.343Z"
   },
   {
    "duration": 1273,
    "start_time": "2022-10-12T17:54:39.350Z"
   },
   {
    "duration": 1297,
    "start_time": "2022-10-12T17:54:40.624Z"
   },
   {
    "duration": 1236,
    "start_time": "2022-10-12T17:54:41.923Z"
   },
   {
    "duration": 5,
    "start_time": "2022-10-12T17:54:43.161Z"
   },
   {
    "duration": 16,
    "start_time": "2022-10-12T17:54:43.167Z"
   },
   {
    "duration": 1457,
    "start_time": "2022-10-12T17:55:27.007Z"
   },
   {
    "duration": 5,
    "start_time": "2022-10-12T17:55:28.466Z"
   },
   {
    "duration": 5,
    "start_time": "2022-10-12T17:55:28.473Z"
   },
   {
    "duration": 5,
    "start_time": "2022-10-12T17:55:28.480Z"
   },
   {
    "duration": 4,
    "start_time": "2022-10-12T17:55:28.486Z"
   },
   {
    "duration": 341,
    "start_time": "2022-10-12T17:55:28.492Z"
   },
   {
    "duration": 4,
    "start_time": "2022-10-12T17:55:28.835Z"
   },
   {
    "duration": 16,
    "start_time": "2022-10-12T17:55:28.840Z"
   },
   {
    "duration": 18,
    "start_time": "2022-10-12T17:55:28.857Z"
   },
   {
    "duration": 133,
    "start_time": "2022-10-12T17:55:28.877Z"
   },
   {
    "duration": 38,
    "start_time": "2022-10-12T17:55:29.012Z"
   },
   {
    "duration": 81,
    "start_time": "2022-10-12T17:55:29.052Z"
   },
   {
    "duration": 17,
    "start_time": "2022-10-12T17:55:29.134Z"
   },
   {
    "duration": 168,
    "start_time": "2022-10-12T17:55:29.152Z"
   },
   {
    "duration": 1291,
    "start_time": "2022-10-12T17:55:29.322Z"
   },
   {
    "duration": 517,
    "start_time": "2022-10-12T17:55:30.614Z"
   },
   {
    "duration": 437,
    "start_time": "2022-10-12T17:55:31.133Z"
   },
   {
    "duration": 626,
    "start_time": "2022-10-12T17:55:31.572Z"
   },
   {
    "duration": 269,
    "start_time": "2022-10-12T17:55:32.200Z"
   },
   {
    "duration": 292,
    "start_time": "2022-10-12T17:55:32.471Z"
   },
   {
    "duration": 289,
    "start_time": "2022-10-12T17:55:32.764Z"
   },
   {
    "duration": 8,
    "start_time": "2022-10-12T17:55:33.055Z"
   },
   {
    "duration": 44,
    "start_time": "2022-10-12T17:55:33.064Z"
   },
   {
    "duration": 3,
    "start_time": "2022-10-12T17:55:33.110Z"
   },
   {
    "duration": 6,
    "start_time": "2022-10-12T17:55:33.114Z"
   },
   {
    "duration": 81,
    "start_time": "2022-10-12T17:55:33.122Z"
   },
   {
    "duration": 106,
    "start_time": "2022-10-12T17:55:33.205Z"
   },
   {
    "duration": 188,
    "start_time": "2022-10-12T17:55:33.315Z"
   },
   {
    "duration": 98,
    "start_time": "2022-10-12T17:55:33.505Z"
   },
   {
    "duration": 9,
    "start_time": "2022-10-12T17:55:33.605Z"
   },
   {
    "duration": 84,
    "start_time": "2022-10-12T17:55:33.616Z"
   },
   {
    "duration": 3,
    "start_time": "2022-10-12T17:55:33.702Z"
   },
   {
    "duration": 5,
    "start_time": "2022-10-12T17:55:33.707Z"
   },
   {
    "duration": 6,
    "start_time": "2022-10-12T17:55:33.714Z"
   },
   {
    "duration": 1296,
    "start_time": "2022-10-12T17:55:33.722Z"
   },
   {
    "duration": 1277,
    "start_time": "2022-10-12T17:55:35.020Z"
   },
   {
    "duration": 1239,
    "start_time": "2022-10-12T17:55:36.298Z"
   },
   {
    "duration": 4,
    "start_time": "2022-10-12T17:55:37.538Z"
   },
   {
    "duration": 13,
    "start_time": "2022-10-12T17:55:37.544Z"
   }
  ],
  "kernelspec": {
   "display_name": "Python 3 (ipykernel)",
   "language": "python",
   "name": "python3"
  },
  "language_info": {
   "codemirror_mode": {
    "name": "ipython",
    "version": 3
   },
   "file_extension": ".py",
   "mimetype": "text/x-python",
   "name": "python",
   "nbconvert_exporter": "python",
   "pygments_lexer": "ipython3",
   "version": "3.9.7"
  },
  "toc": {
   "base_numbering": 1,
   "nav_menu": {},
   "number_sections": true,
   "sideBar": true,
   "skip_h1_title": false,
   "title_cell": "Table of Contents",
   "title_sidebar": "Contents",
   "toc_cell": false,
   "toc_position": {
    "height": "calc(100% - 180px)",
    "left": "10px",
    "top": "150px",
    "width": "283.609px"
   },
   "toc_section_display": true,
   "toc_window_display": true
  }
 },
 "nbformat": 4,
 "nbformat_minor": 5
}
